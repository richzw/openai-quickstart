{
 "cells": [
  {
   "cell_type": "markdown",
   "id": "ce5e76a5-222b-408d-b90c-19a801432e66",
   "metadata": {},
   "source": [
    "# LangChain 核心模块 Agent - ReAct\n",
    "\n",
    "ReAct 核心思想是 推理+操作，本示例以` Google Search` 和 `LLM Math` 作为可选操作集合（toolkits），实现 ReAct 功能。\n"
   ]
  },
  {
   "cell_type": "code",
   "execution_count": 1,
   "id": "12bbab36-3929-4f9f-8898-51d2c02b0328",
   "metadata": {
    "tags": []
   },
   "outputs": [
    {
     "name": "stdout",
     "output_type": "stream",
     "text": [
      "IP\t: 67.230.173.228\n",
      "地址\t: 美国  加利福尼亚州  洛杉矶\n",
      "运营商\t: it7.net\n",
      "\n",
      "数据二\t: 美国 | 加利福尼亚州洛杉矶IT7网络\n",
      "\n",
      "数据三\t: 美国加利福尼亚\n",
      "\n",
      "URL\t: http://www.cip.cc/67.230.173.228\n"
     ]
    }
   ],
   "source": [
    "!curl cip.cc"
   ]
  },
  {
   "cell_type": "code",
   "execution_count": 2,
   "id": "cd59da96-dda8-42c8-9c82-8460cf3aa75d",
   "metadata": {
    "tags": []
   },
   "outputs": [],
   "source": [
    "import os\n",
    "\n",
    "# 更换为自己的 Serp API KEY\n",
    "os.environ[\"SERPAPI_API_KEY\"] = \"b3a9dd0b8e84dd73eaaf6e4767065d8a8fc4e5fb884bcf2353d860013424b922\""
   ]
  },
  {
   "cell_type": "code",
   "execution_count": 3,
   "id": "d03a5086-d453-44f2-898b-0fecb746d0c0",
   "metadata": {
    "tags": []
   },
   "outputs": [],
   "source": [
    "from langchain.llms import OpenAI\n",
    "\n",
    "llm = OpenAI(temperature=0)"
   ]
  },
  {
   "cell_type": "code",
   "execution_count": 4,
   "id": "9e7e7202-625a-4cec-999a-321a40115792",
   "metadata": {
    "tags": []
   },
   "outputs": [],
   "source": [
    "from langchain.agents import load_tools\n",
    "from langchain.agents import initialize_agent\n",
    "from langchain.agents import AgentType\n",
    "\n",
    "#加载 LangChain 内置的 Tools\n",
    "tools = load_tools([\"serpapi\", \"llm-math\"], llm=llm)"
   ]
  },
  {
   "cell_type": "markdown",
   "id": "d89d569f-5313-42f3-8f1a-ea45fb1ea035",
   "metadata": {},
   "source": [
    "### 使用语言模型（GPT-3）"
   ]
  },
  {
   "cell_type": "code",
   "execution_count": 5,
   "id": "70af3538-18c4-4c64-99a7-96b32038d31b",
   "metadata": {
    "tags": []
   },
   "outputs": [],
   "source": [
    "# 实例化 ZERO_SHOT_REACT Agent\n",
    "agent = initialize_agent(tools, llm, agent=AgentType.ZERO_SHOT_REACT_DESCRIPTION, verbose=True)"
   ]
  },
  {
   "cell_type": "code",
   "execution_count": 6,
   "id": "484bba88-885b-4630-a9a9-b2ff6241df83",
   "metadata": {
    "tags": []
   },
   "outputs": [
    {
     "name": "stdout",
     "output_type": "stream",
     "text": [
      "\n",
      "\n",
      "\u001b[1m> Entering new AgentExecutor chain...\u001b[0m\n",
      "\u001b[32;1m\u001b[1;3m I need to find out who Leonardo DiCaprio's girlfriend is and then calculate her age to the 0.43 power.\n",
      "Action: Search\n",
      "Action Input: \"Leonardo DiCaprio girlfriend\"\u001b[0m\n",
      "Observation: \u001b[36;1m\u001b[1;3mWho is Leonardo DiCaprio currently dating? Leonardo DiCaprio has most recently been linked to 25-year-old Italian model Vittoria Ceretti. The couple were first spotted together in France in late May in the leadup to DiCaprio's appearance at the Cannes Film Festival.\u001b[0m\n",
      "Thought:\u001b[32;1m\u001b[1;3m I need to calculate Vittoria Ceretti's age to the 0.43 power.\n",
      "Action: Calculator\n",
      "Action Input: 25^0.43\u001b[0m\n",
      "Observation: \u001b[33;1m\u001b[1;3mAnswer: 3.991298452658078\u001b[0m\n",
      "Thought:\u001b[32;1m\u001b[1;3m I now know the final answer.\n",
      "Final Answer: Vittoria Ceretti的年龄的0.43次方是3.991298452658078。\u001b[0m\n",
      "\n",
      "\u001b[1m> Finished chain.\u001b[0m\n"
     ]
    },
    {
     "data": {
      "text/plain": [
       "'Vittoria Ceretti的年龄的0.43次方是3.991298452658078。'"
      ]
     },
     "execution_count": 6,
     "metadata": {},
     "output_type": "execute_result"
    }
   ],
   "source": [
    "agent.run(\"谁是莱昂纳多·迪卡普里奥的女朋友？她现在年龄的0.43次方是多少?\")"
   ]
  },
  {
   "cell_type": "markdown",
   "id": "b816038d-6f3a-47cb-b614-e432db8c1883",
   "metadata": {},
   "source": [
    "### 使用聊天模型（GPT-4）"
   ]
  },
  {
   "cell_type": "code",
   "execution_count": 7,
   "id": "448c877f-577b-4277-a155-51223dc3d949",
   "metadata": {
    "tags": []
   },
   "outputs": [
    {
     "name": "stdout",
     "output_type": "stream",
     "text": [
      "\n",
      "\n",
      "\u001b[1m> Entering new AgentExecutor chain...\u001b[0m\n",
      "\u001b[32;1m\u001b[1;3mThought: The question is asking two things: who is Leonardo DiCaprio's girlfriend and what is her age to the power of 0.43. First, I need to find out who Leonardo DiCaprio's current girlfriend is. Then, I need to find out her age. Finally, I will calculate her age to the power of 0.43. Let's start with finding out who Leonardo DiCaprio's current girlfriend is.\n",
      "Action:\n",
      "```\n",
      "{\n",
      "  \"action\": \"Search\",\n",
      "  \"action_input\": \"Leonardo DiCaprio current girlfriend\"\n",
      "}\n",
      "```\u001b[0m\n",
      "Observation: \u001b[36;1m\u001b[1;3mLeonardo DiCaprio and his rumored girlfriend Vittoria Ceretti are hanging out together! The 48-year-old actor and the 25-year-old model were seen together on Thursday (August 31) in Los Angeles with another couple, but Leo took the back exit after walking in the front door with Vittoria.\u001b[0m\n",
      "Thought:\u001b[32;1m\u001b[1;3mLeonardo DiCaprio's current girlfriend is Vittoria Ceretti and she is 25 years old. Now I need to calculate 25 to the power of 0.43.\n",
      "Action:\n",
      "```\n",
      "{\n",
      "  \"action\": \"Calculator\",\n",
      "  \"action_input\": \"25**0.43\"\n",
      "}\n",
      "```\u001b[0m\n",
      "Observation: \u001b[33;1m\u001b[1;3mAnswer: 3.991298452658078\u001b[0m\n",
      "Thought:\u001b[32;1m\u001b[1;3mI now know the final answer. Leonardo DiCaprio's girlfriend is Vittoria Ceretti and her age to the power of 0.43 is approximately 3.99.\n",
      "Final Answer: 莱昂纳多·迪卡普里奥的女朋友是Vittoria Ceretti，她的年龄的0.43次方是3.99。\u001b[0m\n",
      "\n",
      "\u001b[1m> Finished chain.\u001b[0m\n"
     ]
    },
    {
     "data": {
      "text/plain": [
       "'莱昂纳多·迪卡普里奥的女朋友是Vittoria Ceretti，她的年龄的0.43次方是3.99。'"
      ]
     },
     "execution_count": 7,
     "metadata": {},
     "output_type": "execute_result"
    }
   ],
   "source": [
    "from langchain.chat_models import ChatOpenAI\n",
    "\n",
    "chat_model = ChatOpenAI(model=\"gpt-4\", temperature=0)\n",
    "agent = initialize_agent(tools, chat_model, agent=AgentType.CHAT_ZERO_SHOT_REACT_DESCRIPTION, verbose=True)\n",
    "agent.run(\"谁是莱昂纳多·迪卡普里奥的女朋友？她现在年龄的0.43次方是多少?\")"
   ]
  },
  {
   "cell_type": "code",
   "execution_count": null,
   "id": "67f4728e-bf1f-4643-a2ee-8f8679ddc58a",
   "metadata": {},
   "outputs": [],
   "source": []
  },
  {
   "cell_type": "code",
   "execution_count": null,
   "id": "fe694608-edbc-466e-a4f9-83c873ed4678",
   "metadata": {},
   "outputs": [],
   "source": []
  },
  {
   "cell_type": "code",
   "execution_count": null,
   "id": "cc15d57d-b80f-4a0c-94e6-3a94024b9d98",
   "metadata": {},
   "outputs": [],
   "source": [
    "TruLens + Milvus\n"
   ]
  },
  {
   "cell_type": "code",
   "execution_count": 1,
   "id": "57d42b3e-6656-4473-aa56-b14a5f0568c8",
   "metadata": {
    "tags": []
   },
   "outputs": [
    {
     "name": "stdout",
     "output_type": "stream",
     "text": [
      "IP\t: 89.208.247.130\n",
      "地址\t: 美国  加利福尼亚州  洛杉矶\n",
      "运营商\t: it7.net\n",
      "\n",
      "数据二\t: 美国 | 加利福尼亚州洛杉矶IT7网络\n",
      "\n",
      "数据三\t: 美国加利福尼亚\n",
      "\n",
      "URL\t: http://www.cip.cc/89.208.247.130\n"
     ]
    }
   ],
   "source": [
    "!curl cip.cc"
   ]
  },
  {
   "cell_type": "code",
   "execution_count": 2,
   "id": "26df645b-814b-454e-904b-2f4007315817",
   "metadata": {
    "collapsed": true,
    "jupyter": {
     "outputs_hidden": true
    },
    "tags": []
   },
   "outputs": [
    {
     "name": "stdout",
     "output_type": "stream",
     "text": [
      "Collecting trulens-eval==0.12.0\n",
      "  Downloading trulens_eval-0.12.0-py3-none-any.whl (577 kB)\n",
      "\u001b[2K     \u001b[38;2;114;156;31m━━━━━━━━━━━━━━━━━━━━━━━━━━━━━━━━━━━━━\u001b[0m \u001b[32m578.0/578.0 kB\u001b[0m \u001b[31m443.2 kB/s\u001b[0m eta \u001b[36m0:00:00\u001b[0mm eta \u001b[36m0:00:01\u001b[0m0:01\u001b[0m:01\u001b[0m\n",
      "\u001b[?25hCollecting llama_index==0.8.4\n",
      "  Downloading llama_index-0.8.4-py3-none-any.whl (673 kB)\n",
      "\u001b[2K     \u001b[38;2;114;156;31m━━━━━━━━━━━━━━━━━━━━━━━━━━━━━━━━━━━━━━━\u001b[0m \u001b[32m673.8/673.8 kB\u001b[0m \u001b[31m2.2 MB/s\u001b[0m eta \u001b[36m0:00:00\u001b[0mm eta \u001b[36m0:00:01\u001b[0m[36m0:00:01\u001b[0m\n",
      "\u001b[?25hCollecting pymilvus==2.3.0\n",
      "  Downloading pymilvus-2.3.0-py3-none-any.whl (157 kB)\n",
      "\u001b[2K     \u001b[38;2;114;156;31m━━━━━━━━━━━━━━━━━━━━━━━━━━━━━━━━━━━━━━━\u001b[0m \u001b[32m157.3/157.3 kB\u001b[0m \u001b[31m3.1 MB/s\u001b[0m eta \u001b[36m0:00:00\u001b[0m[36m0:00:01\u001b[0m\n",
      "\u001b[?25hCollecting nltk==3.8.1\n",
      "  Downloading nltk-3.8.1-py3-none-any.whl (1.5 MB)\n",
      "\u001b[2K     \u001b[38;2;114;156;31m━━━━━━━━━━━━━━━━━━━━━━━━━━━━━━━━━━━━━━━━\u001b[0m \u001b[32m1.5/1.5 MB\u001b[0m \u001b[31m4.7 MB/s\u001b[0m eta \u001b[36m0:00:00\u001b[0mm eta \u001b[36m0:00:01\u001b[0m0:01\u001b[0m:01\u001b[0m\n",
      "\u001b[?25hCollecting html2text==2020.1.16\n",
      "  Downloading html2text-2020.1.16-py3-none-any.whl (32 kB)\n",
      "Collecting tenacity==8.2.3\n",
      "  Downloading tenacity-8.2.3-py3-none-any.whl (24 kB)\n",
      "Collecting cohere>=4.4.1 (from trulens-eval==0.12.0)\n",
      "  Downloading cohere-4.34-py3-none-any.whl (48 kB)\n",
      "\u001b[2K     \u001b[38;2;114;156;31m━━━━━━━━━━━━━━━━━━━━━━━━━━━━━━━━━━━━━━━━\u001b[0m \u001b[32m48.2/48.2 kB\u001b[0m \u001b[31m1.6 MB/s\u001b[0m eta \u001b[36m0:00:00\u001b[0m\n",
      "\u001b[?25hRequirement already satisfied: datasets>=2.12.0 in /usr/local/anaconda3/lib/python3.11/site-packages (from trulens-eval==0.12.0) (2.14.6)\n",
      "Collecting python-dotenv>=1.0.0 (from trulens-eval==0.12.0)\n",
      "  Using cached python_dotenv-1.0.0-py3-none-any.whl (19 kB)\n",
      "Collecting kaggle>=1.5.13 (from trulens-eval==0.12.0)\n",
      "  Downloading kaggle-1.5.16.tar.gz (83 kB)\n",
      "\u001b[2K     \u001b[38;2;114;156;31m━━━━━━━━━━━━━━━━━━━━━━━━━━━━━━━━━━━━━━━━\u001b[0m \u001b[32m83.6/83.6 kB\u001b[0m \u001b[31m2.7 MB/s\u001b[0m eta \u001b[36m0:00:00\u001b[0m\n",
      "\u001b[?25h  Preparing metadata (setup.py) ... \u001b[?25ldone\n",
      "\u001b[?25hRequirement already satisfied: langchain>=0.0.230 in /usr/local/anaconda3/lib/python3.11/site-packages (from trulens-eval==0.12.0) (0.0.283)\n",
      "Collecting merkle-json>=1.0.0 (from trulens-eval==0.12.0)\n",
      "  Downloading merkle_json-1.0.0-py3-none-any.whl (5.2 kB)\n",
      "Collecting millify>=0.1.1 (from trulens-eval==0.12.0)\n",
      "  Downloading millify-0.1.1.tar.gz (1.2 kB)\n",
      "  Preparing metadata (setup.py) ... \u001b[?25ldone\n",
      "\u001b[?25hRequirement already satisfied: openai>=0.27.6 in /usr/local/anaconda3/lib/python3.11/site-packages (from trulens-eval==0.12.0) (0.27.8)\n",
      "Collecting pinecone-client>=2.2.1 (from trulens-eval==0.12.0)\n",
      "  Downloading pinecone_client-2.2.4-py3-none-any.whl (179 kB)\n",
      "\u001b[2K     \u001b[38;2;114;156;31m━━━━━━━━━━━━━━━━━━━━━━━━━━━━━━━━━━━━━━━\u001b[0m \u001b[32m179.4/179.4 kB\u001b[0m \u001b[31m5.1 MB/s\u001b[0m eta \u001b[36m0:00:00\u001b[0m\n",
      "\u001b[?25hRequirement already satisfied: pydantic>=1.10.7 in /usr/local/anaconda3/lib/python3.11/site-packages (from trulens-eval==0.12.0) (1.10.12)\n",
      "Collecting requests>=2.30.0 (from trulens-eval==0.12.0)\n",
      "  Downloading requests-2.31.0-py3-none-any.whl (62 kB)\n",
      "\u001b[2K     \u001b[38;2;114;156;31m━━━━━━━━━━━━━━━━━━━━━━━━━━━━━━━━━━━━━━━━\u001b[0m \u001b[32m62.6/62.6 kB\u001b[0m \u001b[31m1.9 MB/s\u001b[0m eta \u001b[36m0:00:00\u001b[0m\n",
      "\u001b[?25hCollecting slack-bolt>=1.18.0 (from trulens-eval==0.12.0)\n",
      "  Downloading slack_bolt-1.18.0-py2.py3-none-any.whl (194 kB)\n",
      "\u001b[2K     \u001b[38;2;114;156;31m━━━━━━━━━━━━━━━━━━━━━━━━━━━━━━━━━━━━━━━\u001b[0m \u001b[32m194.6/194.6 kB\u001b[0m \u001b[31m5.2 MB/s\u001b[0m eta \u001b[36m0:00:00\u001b[0mm eta \u001b[36m0:00:01\u001b[0m\n",
      "\u001b[?25hCollecting slack-sdk>=3.21.3 (from trulens-eval==0.12.0)\n",
      "  Downloading slack_sdk-3.23.1-py2.py3-none-any.whl (281 kB)\n",
      "\u001b[2K     \u001b[38;2;114;156;31m━━━━━━━━━━━━━━━━━━━━━━━━━━━━━━━━━━━━━━\u001b[0m \u001b[32m281.2/281.2 kB\u001b[0m \u001b[31m10.0 MB/s\u001b[0m eta \u001b[36m0:00:00\u001b[0m\n",
      "\u001b[?25hCollecting streamlit>=1.26.0 (from trulens-eval==0.12.0)\n",
      "  Downloading streamlit-1.28.2-py2.py3-none-any.whl (8.4 MB)\n",
      "\u001b[2K     \u001b[38;2;114;156;31m━━━━━━━━━━━━━━━━━━━━━━━━━━━━━━━━━━━━━━━━\u001b[0m \u001b[32m8.4/8.4 MB\u001b[0m \u001b[31m10.1 MB/s\u001b[0m eta \u001b[36m0:00:00\u001b[0mm eta \u001b[36m0:00:01\u001b[0m0:01\u001b[0m:01\u001b[0m\n",
      "\u001b[?25hCollecting streamlit-aggrid>=0.3.4.post3 (from trulens-eval==0.12.0)\n",
      "  Downloading streamlit_aggrid-0.3.4.post3-py3-none-any.whl (3.4 MB)\n",
      "\u001b[2K     \u001b[38;2;114;156;31m━━━━━━━━━━━━━━━━━━━━━━━━━━━━━━━━━━━━━━━━\u001b[0m \u001b[32m3.4/3.4 MB\u001b[0m \u001b[31m4.8 MB/s\u001b[0m eta \u001b[36m0:00:00\u001b[0mm eta \u001b[36m0:00:01\u001b[0m00:01\u001b[0m:01\u001b[0m\n",
      "\u001b[?25hCollecting streamlit-extras>=0.2.7 (from trulens-eval==0.12.0)\n",
      "  Downloading streamlit_extras-0.3.5-py3-none-any.whl (66 kB)\n",
      "\u001b[2K     \u001b[38;2;114;156;31m━━━━━━━━━━━━━━━━━━━━━━━━━━━━━━━━━━━━━━━━\u001b[0m \u001b[32m66.0/66.0 kB\u001b[0m \u001b[31m2.2 MB/s\u001b[0m eta \u001b[36m0:00:00\u001b[0m\n",
      "\u001b[?25hCollecting streamlit-javascript>=0.1.5 (from trulens-eval==0.12.0)\n",
      "  Downloading streamlit_javascript-0.1.5-py3-none-any.whl (518 kB)\n",
      "\u001b[2K     \u001b[38;2;114;156;31m━━━━━━━━━━━━━━━━━━━━━━━━━━━━━━━━━━━━━━━\u001b[0m \u001b[32m518.4/518.4 kB\u001b[0m \u001b[31m9.0 MB/s\u001b[0m eta \u001b[36m0:00:00\u001b[0mm eta \u001b[36m0:00:01\u001b[0m\n",
      "\u001b[?25hRequirement already satisfied: transformers>=4.10.0 in /usr/local/anaconda3/lib/python3.11/site-packages (from trulens-eval==0.12.0) (4.31.0)\n",
      "Collecting typing-inspect==0.8.0 (from trulens-eval==0.12.0)\n",
      "  Downloading typing_inspect-0.8.0-py3-none-any.whl (8.7 kB)\n",
      "Collecting typing-extensions==4.5.0 (from trulens-eval==0.12.0)\n",
      "  Downloading typing_extensions-4.5.0-py3-none-any.whl (27 kB)\n",
      "Collecting frozendict>=2.3.8 (from trulens-eval==0.12.0)\n",
      "  Downloading frozendict-2.3.8-py311-none-any.whl (14 kB)\n",
      "Collecting munch>=3.0.0 (from trulens-eval==0.12.0)\n",
      "  Downloading munch-4.0.0-py2.py3-none-any.whl (9.9 kB)\n",
      "Collecting ipywidgets>=8.0.6 (from trulens-eval==0.12.0)\n",
      "  Downloading ipywidgets-8.1.1-py3-none-any.whl (139 kB)\n",
      "\u001b[2K     \u001b[38;2;114;156;31m━━━━━━━━━━━━━━━━━━━━━━━━━━━━━━━━━━━━━━━\u001b[0m \u001b[32m139.4/139.4 kB\u001b[0m \u001b[31m4.4 MB/s\u001b[0m eta \u001b[36m0:00:00\u001b[0m\n",
      "\u001b[?25hRequirement already satisfied: numpy>=1.23.5 in /usr/local/anaconda3/lib/python3.11/site-packages (from trulens-eval==0.12.0) (1.24.3)\n",
      "Requirement already satisfied: sqlalchemy>=2.0.19 in /usr/local/anaconda3/lib/python3.11/site-packages (from trulens-eval==0.12.0) (2.0.20)\n",
      "Collecting alembic>=1.11.2 (from trulens-eval==0.12.0)\n",
      "  Downloading alembic-1.12.1-py3-none-any.whl (226 kB)\n",
      "\u001b[2K     \u001b[38;2;114;156;31m━━━━━━━━━━━━━━━━━━━━━━━━━━━━━━━━━━━━━━━\u001b[0m \u001b[32m226.8/226.8 kB\u001b[0m \u001b[31m6.4 MB/s\u001b[0m eta \u001b[36m0:00:00\u001b[0m\n",
      "\u001b[?25hRequirement already satisfied: tiktoken in /usr/local/anaconda3/lib/python3.11/site-packages (from llama_index==0.8.4) (0.4.0)\n",
      "Requirement already satisfied: dataclasses-json in /usr/local/anaconda3/lib/python3.11/site-packages (from llama_index==0.8.4) (0.5.7)\n",
      "Collecting langchain>=0.0.230 (from trulens-eval==0.12.0)\n",
      "  Using cached langchain-0.0.266-py3-none-any.whl (1.5 MB)\n",
      "Requirement already satisfied: pandas in /usr/local/anaconda3/lib/python3.11/site-packages (from llama_index==0.8.4) (1.5.3)\n",
      "Requirement already satisfied: urllib3<2 in /usr/local/anaconda3/lib/python3.11/site-packages (from llama_index==0.8.4) (1.26.16)\n",
      "Requirement already satisfied: fsspec>=2023.5.0 in /usr/local/anaconda3/lib/python3.11/site-packages (from llama_index==0.8.4) (2023.6.0)\n",
      "Requirement already satisfied: beautifulsoup4 in /usr/local/anaconda3/lib/python3.11/site-packages (from llama_index==0.8.4) (4.12.2)\n",
      "Requirement already satisfied: nest-asyncio in /usr/local/anaconda3/lib/python3.11/site-packages (from llama_index==0.8.4) (1.5.6)\n",
      "Requirement already satisfied: grpcio<=1.56.0,>=1.49.1 in /usr/local/anaconda3/lib/python3.11/site-packages (from pymilvus==2.3.0) (1.56.0)\n",
      "Requirement already satisfied: protobuf>=3.20.0 in /usr/local/anaconda3/lib/python3.11/site-packages (from pymilvus==2.3.0) (4.24.0)\n",
      "Requirement already satisfied: environs<=9.5.0 in /usr/local/anaconda3/lib/python3.11/site-packages (from pymilvus==2.3.0) (9.5.0)\n",
      "Requirement already satisfied: ujson>=2.0.0 in /usr/local/anaconda3/lib/python3.11/site-packages (from pymilvus==2.3.0) (5.4.0)\n",
      "Requirement already satisfied: click in /usr/local/anaconda3/lib/python3.11/site-packages (from nltk==3.8.1) (8.1.7)\n",
      "Requirement already satisfied: joblib in /usr/local/anaconda3/lib/python3.11/site-packages (from nltk==3.8.1) (1.2.0)\n",
      "Requirement already satisfied: regex>=2021.8.3 in /usr/local/anaconda3/lib/python3.11/site-packages (from nltk==3.8.1) (2022.7.9)\n",
      "Requirement already satisfied: tqdm in /usr/local/anaconda3/lib/python3.11/site-packages (from nltk==3.8.1) (4.65.0)\n",
      "Requirement already satisfied: mypy-extensions>=0.3.0 in /usr/local/anaconda3/lib/python3.11/site-packages (from typing-inspect==0.8.0->trulens-eval==0.12.0) (1.0.0)\n",
      "Collecting Mako (from alembic>=1.11.2->trulens-eval==0.12.0)\n",
      "  Downloading Mako-1.3.0-py3-none-any.whl (78 kB)\n",
      "\u001b[2K     \u001b[38;2;114;156;31m━━━━━━━━━━━━━━━━━━━━━━━━━━━━━━━━━━━━━━━━\u001b[0m \u001b[32m78.6/78.6 kB\u001b[0m \u001b[31m2.8 MB/s\u001b[0m eta \u001b[36m0:00:00\u001b[0m\n",
      "\u001b[?25hRequirement already satisfied: aiohttp<4.0,>=3.0 in /usr/local/anaconda3/lib/python3.11/site-packages (from cohere>=4.4.1->trulens-eval==0.12.0) (3.8.3)\n",
      "Requirement already satisfied: backoff<3.0,>=2.0 in /usr/local/anaconda3/lib/python3.11/site-packages (from cohere>=4.4.1->trulens-eval==0.12.0) (2.2.1)\n",
      "Collecting fastavro==1.8.2 (from cohere>=4.4.1->trulens-eval==0.12.0)\n",
      "  Downloading fastavro-1.8.2-cp311-cp311-macosx_10_9_universal2.whl (922 kB)\n",
      "\u001b[2K     \u001b[38;2;114;156;31m━━━━━━━━━━━━━━━━━━━━━━━━━━━━━━━━━━━━━━━\u001b[0m \u001b[32m922.1/922.1 kB\u001b[0m \u001b[31m9.5 MB/s\u001b[0m eta \u001b[36m0:00:00\u001b[0mm eta \u001b[36m0:00:01\u001b[0m0:01\u001b[0m\n",
      "\u001b[?25hRequirement already satisfied: importlib_metadata<7.0,>=6.0 in /usr/local/anaconda3/lib/python3.11/site-packages (from cohere>=4.4.1->trulens-eval==0.12.0) (6.0.0)\n",
      "Requirement already satisfied: pyarrow>=8.0.0 in /usr/local/anaconda3/lib/python3.11/site-packages (from datasets>=2.12.0->trulens-eval==0.12.0) (10.0.1)\n",
      "Requirement already satisfied: dill<0.3.8,>=0.3.0 in /usr/local/anaconda3/lib/python3.11/site-packages (from datasets>=2.12.0->trulens-eval==0.12.0) (0.3.7)\n",
      "Requirement already satisfied: xxhash in /usr/local/anaconda3/lib/python3.11/site-packages (from datasets>=2.12.0->trulens-eval==0.12.0) (3.4.1)\n",
      "Requirement already satisfied: multiprocess in /usr/local/anaconda3/lib/python3.11/site-packages (from datasets>=2.12.0->trulens-eval==0.12.0) (0.70.15)\n",
      "Requirement already satisfied: huggingface-hub<1.0.0,>=0.14.0 in /usr/local/anaconda3/lib/python3.11/site-packages (from datasets>=2.12.0->trulens-eval==0.12.0) (0.16.4)\n",
      "Requirement already satisfied: packaging in /usr/local/anaconda3/lib/python3.11/site-packages (from datasets>=2.12.0->trulens-eval==0.12.0) (23.0)\n",
      "Requirement already satisfied: pyyaml>=5.1 in /usr/local/anaconda3/lib/python3.11/site-packages (from datasets>=2.12.0->trulens-eval==0.12.0) (6.0)\n",
      "Requirement already satisfied: marshmallow>=3.0.0 in /usr/local/anaconda3/lib/python3.11/site-packages (from environs<=9.5.0->pymilvus==2.3.0) (3.20.1)\n",
      "Collecting comm>=0.1.3 (from ipywidgets>=8.0.6->trulens-eval==0.12.0)\n",
      "  Downloading comm-0.2.0-py3-none-any.whl (7.0 kB)\n",
      "Requirement already satisfied: ipython>=6.1.0 in /usr/local/anaconda3/lib/python3.11/site-packages (from ipywidgets>=8.0.6->trulens-eval==0.12.0) (8.12.0)\n",
      "Requirement already satisfied: traitlets>=4.3.1 in /usr/local/anaconda3/lib/python3.11/site-packages (from ipywidgets>=8.0.6->trulens-eval==0.12.0) (5.7.1)\n",
      "Collecting widgetsnbextension~=4.0.9 (from ipywidgets>=8.0.6->trulens-eval==0.12.0)\n",
      "  Downloading widgetsnbextension-4.0.9-py3-none-any.whl (2.3 MB)\n",
      "\u001b[2K     \u001b[38;2;114;156;31m━━━━━━━━━━━━━━━━━━━━━━━━━━━━━━━━━━━━━━━━\u001b[0m \u001b[32m2.3/2.3 MB\u001b[0m \u001b[31m23.8 MB/s\u001b[0m eta \u001b[36m0:00:00\u001b[0mm eta \u001b[36m0:00:01\u001b[0m0:01\u001b[0m\n",
      "\u001b[?25hCollecting jupyterlab-widgets~=3.0.9 (from ipywidgets>=8.0.6->trulens-eval==0.12.0)\n",
      "  Downloading jupyterlab_widgets-3.0.9-py3-none-any.whl (214 kB)\n",
      "\u001b[2K     \u001b[38;2;114;156;31m━━━━━━━━━━━━━━━━━━━━━━━━━━━━━━━━━━━━━━━\u001b[0m \u001b[32m214.9/214.9 kB\u001b[0m \u001b[31m7.4 MB/s\u001b[0m eta \u001b[36m0:00:00\u001b[0m\n",
      "\u001b[?25hRequirement already satisfied: six>=1.10 in /usr/local/anaconda3/lib/python3.11/site-packages (from kaggle>=1.5.13->trulens-eval==0.12.0) (1.16.0)\n",
      "Requirement already satisfied: certifi in /usr/local/anaconda3/lib/python3.11/site-packages (from kaggle>=1.5.13->trulens-eval==0.12.0) (2023.5.7)\n",
      "Requirement already satisfied: python-dateutil in /usr/local/anaconda3/lib/python3.11/site-packages (from kaggle>=1.5.13->trulens-eval==0.12.0) (2.8.2)\n",
      "Requirement already satisfied: python-slugify in /usr/local/anaconda3/lib/python3.11/site-packages (from kaggle>=1.5.13->trulens-eval==0.12.0) (5.0.2)\n",
      "Requirement already satisfied: bleach in /usr/local/anaconda3/lib/python3.11/site-packages (from kaggle>=1.5.13->trulens-eval==0.12.0) (4.1.0)\n",
      "Requirement already satisfied: langsmith<0.1.0,>=0.0.21 in /usr/local/anaconda3/lib/python3.11/site-packages (from langchain>=0.0.230->trulens-eval==0.12.0) (0.0.25)\n",
      "Requirement already satisfied: numexpr<3.0.0,>=2.8.4 in /usr/local/anaconda3/lib/python3.11/site-packages (from langchain>=0.0.230->trulens-eval==0.12.0) (2.8.4)\n",
      "Requirement already satisfied: openapi-schema-pydantic<2.0,>=1.2 in /usr/local/anaconda3/lib/python3.11/site-packages (from langchain>=0.0.230->trulens-eval==0.12.0) (1.2.4)\n",
      "Requirement already satisfied: marshmallow-enum<2.0.0,>=1.5.1 in /usr/local/anaconda3/lib/python3.11/site-packages (from dataclasses-json->llama_index==0.8.4) (1.5.1)\n",
      "Requirement already satisfied: pytz>=2020.1 in /usr/local/anaconda3/lib/python3.11/site-packages (from pandas->llama_index==0.8.4) (2022.7)\n",
      "Requirement already satisfied: loguru>=0.5.0 in /usr/local/anaconda3/lib/python3.11/site-packages (from pinecone-client>=2.2.1->trulens-eval==0.12.0) (0.7.0)\n",
      "Collecting dnspython>=2.0.0 (from pinecone-client>=2.2.1->trulens-eval==0.12.0)\n",
      "  Downloading dnspython-2.4.2-py3-none-any.whl (300 kB)\n",
      "\u001b[2K     \u001b[38;2;114;156;31m━━━━━━━━━━━━━━━━━━━━━━━━━━━━━━━━━━━━━━━\u001b[0m \u001b[32m300.4/300.4 kB\u001b[0m \u001b[31m8.3 MB/s\u001b[0m eta \u001b[36m0:00:00\u001b[0m\n",
      "\u001b[?25hRequirement already satisfied: charset-normalizer<4,>=2 in /usr/local/anaconda3/lib/python3.11/site-packages (from requests>=2.30.0->trulens-eval==0.12.0) (2.0.4)\n",
      "Requirement already satisfied: idna<4,>=2.5 in /usr/local/anaconda3/lib/python3.11/site-packages (from requests>=2.30.0->trulens-eval==0.12.0) (3.4)\n",
      "Requirement already satisfied: greenlet!=0.4.17 in /usr/local/anaconda3/lib/python3.11/site-packages (from sqlalchemy>=2.0.19->trulens-eval==0.12.0) (2.0.1)\n",
      "Requirement already satisfied: altair<6,>=4.0 in /usr/local/anaconda3/lib/python3.11/site-packages (from streamlit>=1.26.0->trulens-eval==0.12.0) (5.0.1)\n",
      "Collecting blinker<2,>=1.0.0 (from streamlit>=1.26.0->trulens-eval==0.12.0)\n",
      "  Downloading blinker-1.7.0-py3-none-any.whl (13 kB)\n",
      "Requirement already satisfied: cachetools<6,>=4.0 in /usr/local/anaconda3/lib/python3.11/site-packages (from streamlit>=1.26.0->trulens-eval==0.12.0) (5.3.2)\n",
      "Requirement already satisfied: pillow<11,>=7.1.0 in /usr/local/anaconda3/lib/python3.11/site-packages (from streamlit>=1.26.0->trulens-eval==0.12.0) (9.4.0)\n",
      "Collecting rich<14,>=10.14.0 (from streamlit>=1.26.0->trulens-eval==0.12.0)\n",
      "  Downloading rich-13.6.0-py3-none-any.whl (239 kB)\n",
      "\u001b[2K     \u001b[38;2;114;156;31m━━━━━━━━━━━━━━━━━━━━━━━━━━━━━━━━━━━━━━━\u001b[0m \u001b[32m239.8/239.8 kB\u001b[0m \u001b[31m6.4 MB/s\u001b[0m eta \u001b[36m0:00:00\u001b[0m\n",
      "\u001b[?25hRequirement already satisfied: toml<2,>=0.10.1 in /usr/local/anaconda3/lib/python3.11/site-packages (from streamlit>=1.26.0->trulens-eval==0.12.0) (0.10.2)\n",
      "Collecting tzlocal<6,>=1.1 (from streamlit>=1.26.0->trulens-eval==0.12.0)\n",
      "  Downloading tzlocal-5.2-py3-none-any.whl (17 kB)\n",
      "Collecting validators<1,>=0.2 (from streamlit>=1.26.0->trulens-eval==0.12.0)\n",
      "  Downloading validators-0.22.0-py3-none-any.whl (26 kB)\n",
      "Collecting gitpython!=3.1.19,<4,>=3.0.7 (from streamlit>=1.26.0->trulens-eval==0.12.0)\n",
      "  Downloading GitPython-3.1.40-py3-none-any.whl (190 kB)\n",
      "\u001b[2K     \u001b[38;2;114;156;31m━━━━━━━━━━━━━━━━━━━━━━━━━━━━━━━━━━━━━━━\u001b[0m \u001b[32m190.6/190.6 kB\u001b[0m \u001b[31m6.4 MB/s\u001b[0m eta \u001b[36m0:00:00\u001b[0m\n",
      "\u001b[?25hCollecting pydeck<1,>=0.8.0b4 (from streamlit>=1.26.0->trulens-eval==0.12.0)\n",
      "  Downloading pydeck-0.8.1b0-py2.py3-none-any.whl (4.8 MB)\n",
      "\u001b[2K     \u001b[38;2;114;156;31m━━━━━━━━━━━━━━━━━━━━━━━━━━━━━━━━━━━━━━━━\u001b[0m \u001b[32m4.8/4.8 MB\u001b[0m \u001b[31m10.8 MB/s\u001b[0m eta \u001b[36m0:00:00\u001b[0mm eta \u001b[36m0:00:01\u001b[0m0:01\u001b[0m:01\u001b[0m\n",
      "\u001b[?25hRequirement already satisfied: tornado<7,>=6.0.3 in /usr/local/anaconda3/lib/python3.11/site-packages (from streamlit>=1.26.0->trulens-eval==0.12.0) (6.2)\n",
      "Collecting python-decouple<4.0,>=3.6 (from streamlit-aggrid>=0.3.4.post3->trulens-eval==0.12.0)\n",
      "  Downloading python_decouple-3.8-py3-none-any.whl (9.9 kB)\n",
      "Requirement already satisfied: entrypoints>=0.4 in /usr/local/anaconda3/lib/python3.11/site-packages (from streamlit-extras>=0.2.7->trulens-eval==0.12.0) (0.4)\n",
      "Collecting htbuilder>=0.6.2 (from streamlit-extras>=0.2.7->trulens-eval==0.12.0)\n",
      "  Downloading htbuilder-0.6.2-py3-none-any.whl (12 kB)\n",
      "Collecting markdownlit>=0.0.5 (from streamlit-extras>=0.2.7->trulens-eval==0.12.0)\n",
      "  Downloading markdownlit-0.0.7-py3-none-any.whl (15 kB)\n",
      "Collecting st-annotated-text>=3.0.0 (from streamlit-extras>=0.2.7->trulens-eval==0.12.0)\n",
      "  Downloading st_annotated_text-4.0.1-py3-none-any.whl (9.0 kB)\n",
      "Collecting streamlit-camera-input-live>=0.2.0 (from streamlit-extras>=0.2.7->trulens-eval==0.12.0)\n",
      "  Downloading streamlit_camera_input_live-0.2.0-py3-none-any.whl (6.6 kB)\n",
      "Collecting streamlit-card>=0.0.4 (from streamlit-extras>=0.2.7->trulens-eval==0.12.0)\n",
      "  Downloading streamlit_card-0.0.61-py3-none-any.whl (680 kB)\n",
      "\u001b[2K     \u001b[38;2;114;156;31m━━━━━━━━━━━━━━━━━━━━━━━━━━━━━━━━━━━━━━\u001b[0m \u001b[32m680.5/680.5 kB\u001b[0m \u001b[31m11.2 MB/s\u001b[0m eta \u001b[36m0:00:00\u001b[0mm eta \u001b[36m0:00:01\u001b[0m\n",
      "\u001b[?25hCollecting streamlit-embedcode>=0.1.2 (from streamlit-extras>=0.2.7->trulens-eval==0.12.0)\n",
      "  Downloading streamlit_embedcode-0.1.2-py3-none-any.whl (3.5 kB)\n",
      "Collecting streamlit-faker>=0.0.2 (from streamlit-extras>=0.2.7->trulens-eval==0.12.0)\n",
      "  Downloading streamlit_faker-0.0.3-py3-none-any.whl (14 kB)\n",
      "Collecting streamlit-image-coordinates<0.2.0,>=0.1.1 (from streamlit-extras>=0.2.7->trulens-eval==0.12.0)\n",
      "  Downloading streamlit_image_coordinates-0.1.6-py3-none-any.whl (6.3 kB)\n",
      "Collecting streamlit-keyup>=0.1.9 (from streamlit-extras>=0.2.7->trulens-eval==0.12.0)\n",
      "  Downloading streamlit_keyup-0.2.0-py3-none-any.whl (7.4 kB)\n",
      "Collecting streamlit-toggle-switch>=1.0.2 (from streamlit-extras>=0.2.7->trulens-eval==0.12.0)\n",
      "  Downloading streamlit_toggle_switch-1.0.2-py3-none-any.whl (635 kB)\n",
      "\u001b[2K     \u001b[38;2;114;156;31m━━━━━━━━━━━━━━━━━━━━━━━━━━━━━━━━━━━━━━━\u001b[0m \u001b[32m635.4/635.4 kB\u001b[0m \u001b[31m9.9 MB/s\u001b[0m eta \u001b[36m0:00:00\u001b[0mm eta \u001b[36m0:00:01\u001b[0m\n",
      "\u001b[?25hCollecting streamlit-vertical-slider>=1.0.2 (from streamlit-extras>=0.2.7->trulens-eval==0.12.0)\n",
      "  Downloading streamlit_vertical_slider-1.0.2-py3-none-any.whl (624 kB)\n",
      "\u001b[2K     \u001b[38;2;114;156;31m━━━━━━━━━━━━━━━━━━━━━━━━━━━━━━━━━━━━━━\u001b[0m \u001b[32m624.3/624.3 kB\u001b[0m \u001b[31m18.4 MB/s\u001b[0m eta \u001b[36m0:00:00\u001b[0m\n",
      "\u001b[?25hRequirement already satisfied: filelock in /usr/local/anaconda3/lib/python3.11/site-packages (from transformers>=4.10.0->trulens-eval==0.12.0) (3.12.4)\n",
      "Requirement already satisfied: tokenizers!=0.11.3,<0.14,>=0.11.1 in /usr/local/anaconda3/lib/python3.11/site-packages (from transformers>=4.10.0->trulens-eval==0.12.0) (0.13.3)\n",
      "Requirement already satisfied: safetensors>=0.3.1 in /usr/local/anaconda3/lib/python3.11/site-packages (from transformers>=4.10.0->trulens-eval==0.12.0) (0.3.2)\n",
      "Requirement already satisfied: soupsieve>1.2 in /usr/local/anaconda3/lib/python3.11/site-packages (from beautifulsoup4->llama_index==0.8.4) (2.4)\n",
      "Requirement already satisfied: attrs>=17.3.0 in /usr/local/anaconda3/lib/python3.11/site-packages (from aiohttp<4.0,>=3.0->cohere>=4.4.1->trulens-eval==0.12.0) (22.1.0)\n",
      "Requirement already satisfied: multidict<7.0,>=4.5 in /usr/local/anaconda3/lib/python3.11/site-packages (from aiohttp<4.0,>=3.0->cohere>=4.4.1->trulens-eval==0.12.0) (6.0.2)\n",
      "Requirement already satisfied: async-timeout<5.0,>=4.0.0a3 in /usr/local/anaconda3/lib/python3.11/site-packages (from aiohttp<4.0,>=3.0->cohere>=4.4.1->trulens-eval==0.12.0) (4.0.2)\n",
      "Requirement already satisfied: yarl<2.0,>=1.0 in /usr/local/anaconda3/lib/python3.11/site-packages (from aiohttp<4.0,>=3.0->cohere>=4.4.1->trulens-eval==0.12.0) (1.8.1)\n",
      "Requirement already satisfied: frozenlist>=1.1.1 in /usr/local/anaconda3/lib/python3.11/site-packages (from aiohttp<4.0,>=3.0->cohere>=4.4.1->trulens-eval==0.12.0) (1.3.3)\n",
      "Requirement already satisfied: aiosignal>=1.1.2 in /usr/local/anaconda3/lib/python3.11/site-packages (from aiohttp<4.0,>=3.0->cohere>=4.4.1->trulens-eval==0.12.0) (1.2.0)\n",
      "Requirement already satisfied: jinja2 in /usr/local/anaconda3/lib/python3.11/site-packages (from altair<6,>=4.0->streamlit>=1.26.0->trulens-eval==0.12.0) (3.1.2)\n",
      "Requirement already satisfied: jsonschema>=3.0 in /usr/local/anaconda3/lib/python3.11/site-packages (from altair<6,>=4.0->streamlit>=1.26.0->trulens-eval==0.12.0) (4.17.3)\n",
      "Requirement already satisfied: toolz in /usr/local/anaconda3/lib/python3.11/site-packages (from altair<6,>=4.0->streamlit>=1.26.0->trulens-eval==0.12.0) (0.12.0)\n",
      "Collecting gitdb<5,>=4.0.1 (from gitpython!=3.1.19,<4,>=3.0.7->streamlit>=1.26.0->trulens-eval==0.12.0)\n",
      "  Downloading gitdb-4.0.11-py3-none-any.whl (62 kB)\n",
      "\u001b[2K     \u001b[38;2;114;156;31m━━━━━━━━━━━━━━━━━━━━━━━━━━━━━━━━━━━━━━━━\u001b[0m \u001b[32m62.7/62.7 kB\u001b[0m \u001b[31m2.0 MB/s\u001b[0m eta \u001b[36m0:00:00\u001b[0m\n",
      "\u001b[?25hRequirement already satisfied: more-itertools in /usr/local/anaconda3/lib/python3.11/site-packages (from htbuilder>=0.6.2->streamlit-extras>=0.2.7->trulens-eval==0.12.0) (8.12.0)\n",
      "Requirement already satisfied: zipp>=0.5 in /usr/local/anaconda3/lib/python3.11/site-packages (from importlib_metadata<7.0,>=6.0->cohere>=4.4.1->trulens-eval==0.12.0) (3.11.0)\n",
      "Requirement already satisfied: backcall in /usr/local/anaconda3/lib/python3.11/site-packages (from ipython>=6.1.0->ipywidgets>=8.0.6->trulens-eval==0.12.0) (0.2.0)\n",
      "Requirement already satisfied: decorator in /usr/local/anaconda3/lib/python3.11/site-packages (from ipython>=6.1.0->ipywidgets>=8.0.6->trulens-eval==0.12.0) (5.1.1)\n",
      "Requirement already satisfied: jedi>=0.16 in /usr/local/anaconda3/lib/python3.11/site-packages (from ipython>=6.1.0->ipywidgets>=8.0.6->trulens-eval==0.12.0) (0.18.1)\n",
      "Requirement already satisfied: matplotlib-inline in /usr/local/anaconda3/lib/python3.11/site-packages (from ipython>=6.1.0->ipywidgets>=8.0.6->trulens-eval==0.12.0) (0.1.6)\n",
      "Requirement already satisfied: pickleshare in /usr/local/anaconda3/lib/python3.11/site-packages (from ipython>=6.1.0->ipywidgets>=8.0.6->trulens-eval==0.12.0) (0.7.5)\n",
      "Requirement already satisfied: prompt-toolkit!=3.0.37,<3.1.0,>=3.0.30 in /usr/local/anaconda3/lib/python3.11/site-packages (from ipython>=6.1.0->ipywidgets>=8.0.6->trulens-eval==0.12.0) (3.0.36)\n",
      "Requirement already satisfied: pygments>=2.4.0 in /usr/local/anaconda3/lib/python3.11/site-packages (from ipython>=6.1.0->ipywidgets>=8.0.6->trulens-eval==0.12.0) (2.15.1)\n",
      "Requirement already satisfied: stack-data in /usr/local/anaconda3/lib/python3.11/site-packages (from ipython>=6.1.0->ipywidgets>=8.0.6->trulens-eval==0.12.0) (0.2.0)\n",
      "Requirement already satisfied: pexpect>4.3 in /usr/local/anaconda3/lib/python3.11/site-packages (from ipython>=6.1.0->ipywidgets>=8.0.6->trulens-eval==0.12.0) (4.8.0)\n",
      "Requirement already satisfied: appnope in /usr/local/anaconda3/lib/python3.11/site-packages (from ipython>=6.1.0->ipywidgets>=8.0.6->trulens-eval==0.12.0) (0.1.2)\n",
      "Requirement already satisfied: markdown in /usr/local/anaconda3/lib/python3.11/site-packages (from markdownlit>=0.0.5->streamlit-extras>=0.2.7->trulens-eval==0.12.0) (3.4.1)\n",
      "Requirement already satisfied: lxml in /usr/local/anaconda3/lib/python3.11/site-packages (from markdownlit>=0.0.5->streamlit-extras>=0.2.7->trulens-eval==0.12.0) (4.9.2)\n",
      "Collecting favicon (from markdownlit>=0.0.5->streamlit-extras>=0.2.7->trulens-eval==0.12.0)\n",
      "  Downloading favicon-0.7.0-py2.py3-none-any.whl (5.9 kB)\n",
      "Collecting pymdown-extensions (from markdownlit>=0.0.5->streamlit-extras>=0.2.7->trulens-eval==0.12.0)\n",
      "  Downloading pymdown_extensions-10.4-py3-none-any.whl (240 kB)\n",
      "\u001b[2K     \u001b[38;2;114;156;31m━━━━━━━━━━━━━━━━━━━━━━━━━━━━━━━━━━━━━━━\u001b[0m \u001b[32m240.8/240.8 kB\u001b[0m \u001b[31m7.3 MB/s\u001b[0m eta \u001b[36m0:00:00\u001b[0m\n",
      "\u001b[?25hRequirement already satisfied: markdown-it-py>=2.2.0 in /usr/local/anaconda3/lib/python3.11/site-packages (from rich<14,>=10.14.0->streamlit>=1.26.0->trulens-eval==0.12.0) (2.2.0)\n",
      "Collecting faker (from streamlit-faker>=0.0.2->streamlit-extras>=0.2.7->trulens-eval==0.12.0)\n",
      "  Downloading Faker-20.0.0-py3-none-any.whl (1.7 MB)\n",
      "\u001b[2K     \u001b[38;2;114;156;31m━━━━━━━━━━━━━━━━━━━━━━━━━━━━━━━━━━━━━━━━\u001b[0m \u001b[32m1.7/1.7 MB\u001b[0m \u001b[31m19.8 MB/s\u001b[0m eta \u001b[36m0:00:00\u001b[0mm eta \u001b[36m0:00:01\u001b[0m[36m0:00:01\u001b[0m\n",
      "\u001b[?25hRequirement already satisfied: matplotlib in /usr/local/anaconda3/lib/python3.11/site-packages (from streamlit-faker>=0.0.2->streamlit-extras>=0.2.7->trulens-eval==0.12.0) (3.7.1)\n",
      "Requirement already satisfied: webencodings in /usr/local/anaconda3/lib/python3.11/site-packages (from bleach->kaggle>=1.5.13->trulens-eval==0.12.0) (0.5.1)\n",
      "Requirement already satisfied: MarkupSafe>=0.9.2 in /usr/local/anaconda3/lib/python3.11/site-packages (from Mako->alembic>=1.11.2->trulens-eval==0.12.0) (2.1.1)\n",
      "Requirement already satisfied: text-unidecode>=1.3 in /usr/local/anaconda3/lib/python3.11/site-packages (from python-slugify->kaggle>=1.5.13->trulens-eval==0.12.0) (1.3)\n",
      "Collecting smmap<6,>=3.0.1 (from gitdb<5,>=4.0.1->gitpython!=3.1.19,<4,>=3.0.7->streamlit>=1.26.0->trulens-eval==0.12.0)\n",
      "  Downloading smmap-5.0.1-py3-none-any.whl (24 kB)\n",
      "Requirement already satisfied: parso<0.9.0,>=0.8.0 in /usr/local/anaconda3/lib/python3.11/site-packages (from jedi>=0.16->ipython>=6.1.0->ipywidgets>=8.0.6->trulens-eval==0.12.0) (0.8.3)\n",
      "Requirement already satisfied: pyrsistent!=0.17.0,!=0.17.1,!=0.17.2,>=0.14.0 in /usr/local/anaconda3/lib/python3.11/site-packages (from jsonschema>=3.0->altair<6,>=4.0->streamlit>=1.26.0->trulens-eval==0.12.0) (0.18.0)\n",
      "Requirement already satisfied: mdurl~=0.1 in /usr/local/anaconda3/lib/python3.11/site-packages (from markdown-it-py>=2.2.0->rich<14,>=10.14.0->streamlit>=1.26.0->trulens-eval==0.12.0) (0.1.0)\n",
      "Requirement already satisfied: ptyprocess>=0.5 in /usr/local/anaconda3/lib/python3.11/site-packages (from pexpect>4.3->ipython>=6.1.0->ipywidgets>=8.0.6->trulens-eval==0.12.0) (0.7.0)\n",
      "Requirement already satisfied: wcwidth in /usr/local/anaconda3/lib/python3.11/site-packages (from prompt-toolkit!=3.0.37,<3.1.0,>=3.0.30->ipython>=6.1.0->ipywidgets>=8.0.6->trulens-eval==0.12.0) (0.2.5)\n",
      "Requirement already satisfied: contourpy>=1.0.1 in /usr/local/anaconda3/lib/python3.11/site-packages (from matplotlib->streamlit-faker>=0.0.2->streamlit-extras>=0.2.7->trulens-eval==0.12.0) (1.0.5)\n",
      "Requirement already satisfied: cycler>=0.10 in /usr/local/anaconda3/lib/python3.11/site-packages (from matplotlib->streamlit-faker>=0.0.2->streamlit-extras>=0.2.7->trulens-eval==0.12.0) (0.11.0)\n",
      "Requirement already satisfied: fonttools>=4.22.0 in /usr/local/anaconda3/lib/python3.11/site-packages (from matplotlib->streamlit-faker>=0.0.2->streamlit-extras>=0.2.7->trulens-eval==0.12.0) (4.25.0)\n",
      "Requirement already satisfied: kiwisolver>=1.0.1 in /usr/local/anaconda3/lib/python3.11/site-packages (from matplotlib->streamlit-faker>=0.0.2->streamlit-extras>=0.2.7->trulens-eval==0.12.0) (1.4.4)\n",
      "Requirement already satisfied: pyparsing>=2.3.1 in /usr/local/anaconda3/lib/python3.11/site-packages (from matplotlib->streamlit-faker>=0.0.2->streamlit-extras>=0.2.7->trulens-eval==0.12.0) (3.0.9)\n",
      "Requirement already satisfied: executing in /usr/local/anaconda3/lib/python3.11/site-packages (from stack-data->ipython>=6.1.0->ipywidgets>=8.0.6->trulens-eval==0.12.0) (0.8.3)\n",
      "Requirement already satisfied: asttokens in /usr/local/anaconda3/lib/python3.11/site-packages (from stack-data->ipython>=6.1.0->ipywidgets>=8.0.6->trulens-eval==0.12.0) (2.0.5)\n",
      "Requirement already satisfied: pure-eval in /usr/local/anaconda3/lib/python3.11/site-packages (from stack-data->ipython>=6.1.0->ipywidgets>=8.0.6->trulens-eval==0.12.0) (0.2.2)\n",
      "Building wheels for collected packages: kaggle, millify\n",
      "  Building wheel for kaggle (setup.py) ... \u001b[?25ldone\n",
      "\u001b[?25h  Created wheel for kaggle: filename=kaggle-1.5.16-py3-none-any.whl size=110686 sha256=7c41dba5f63b4cfc6e8930d8446f3c80b3d20967e5a89b03f26f4aa3bf0f38e0\n",
      "  Stored in directory: /Users/zangw/Library/Caches/pip/wheels/6a/2b/d0/457dd27de499e9423caf738e743c4a3f82886ee6b19f89d5b7\n",
      "  Building wheel for millify (setup.py) ... \u001b[?25ldone\n",
      "\u001b[?25h  Created wheel for millify: filename=millify-0.1.1-py3-none-any.whl size=1843 sha256=347e619250c18b768fa2ee5bbd3b29b327d8ea992ccbf6dced74f0737eaa3427\n",
      "  Stored in directory: /Users/zangw/Library/Caches/pip/wheels/b2/0d/c4/630629a3cdefdf9ce43ef4a08d17672c8e773bc3d769e828e0\n",
      "Successfully built kaggle millify\n",
      "Installing collected packages: python-decouple, millify, widgetsnbextension, validators, tzlocal, typing-extensions, tenacity, smmap, slack-sdk, requests, python-dotenv, pymdown-extensions, nltk, munch, merkle-json, Mako, jupyterlab-widgets, html2text, htbuilder, frozendict, fastavro, dnspython, comm, blinker, typing-inspect, st-annotated-text, slack-bolt, rich, pydeck, pinecone-client, kaggle, gitdb, favicon, faker, pymilvus, gitpython, cohere, alembic, streamlit, langchain, ipywidgets, streamlit-vertical-slider, streamlit-toggle-switch, streamlit-keyup, streamlit-javascript, streamlit-image-coordinates, streamlit-embedcode, streamlit-card, streamlit-camera-input-live, streamlit-aggrid, llama_index, streamlit-faker, markdownlit, streamlit-extras, trulens-eval\n",
      "  Attempting uninstall: widgetsnbextension\n",
      "    Found existing installation: widgetsnbextension 4.0.5\n",
      "    Uninstalling widgetsnbextension-4.0.5:\n",
      "      Successfully uninstalled widgetsnbextension-4.0.5\n",
      "  Attempting uninstall: typing-extensions\n",
      "    Found existing installation: typing_extensions 4.6.3\n",
      "    Uninstalling typing_extensions-4.6.3:\n",
      "      Successfully uninstalled typing_extensions-4.6.3\n",
      "  Attempting uninstall: tenacity\n",
      "    Found existing installation: tenacity 8.2.2\n",
      "    Uninstalling tenacity-8.2.2:\n",
      "      Successfully uninstalled tenacity-8.2.2\n",
      "  Attempting uninstall: requests\n",
      "    Found existing installation: requests 2.29.0\n",
      "    Uninstalling requests-2.29.0:\n",
      "      Successfully uninstalled requests-2.29.0\n",
      "  Attempting uninstall: python-dotenv\n",
      "    Found existing installation: python-dotenv 0.21.1\n",
      "    Uninstalling python-dotenv-0.21.1:\n",
      "      Successfully uninstalled python-dotenv-0.21.1\n",
      "  Attempting uninstall: nltk\n",
      "    Found existing installation: nltk 3.7\n",
      "    Uninstalling nltk-3.7:\n",
      "      Successfully uninstalled nltk-3.7\n",
      "  Attempting uninstall: jupyterlab-widgets\n",
      "    Found existing installation: jupyterlab-widgets 3.0.5\n",
      "    Uninstalling jupyterlab-widgets-3.0.5:\n",
      "      Successfully uninstalled jupyterlab-widgets-3.0.5\n",
      "  Attempting uninstall: comm\n",
      "    Found existing installation: comm 0.1.2\n",
      "    Uninstalling comm-0.1.2:\n",
      "      Successfully uninstalled comm-0.1.2\n",
      "  Attempting uninstall: typing-inspect\n",
      "    Found existing installation: typing-inspect 0.9.0\n",
      "    Uninstalling typing-inspect-0.9.0:\n",
      "      Successfully uninstalled typing-inspect-0.9.0\n",
      "  Attempting uninstall: pymilvus\n",
      "    Found existing installation: pymilvus 2.2.15\n",
      "    Uninstalling pymilvus-2.2.15:\n",
      "      Successfully uninstalled pymilvus-2.2.15\n",
      "  Attempting uninstall: langchain\n",
      "    Found existing installation: langchain 0.0.283\n",
      "    Uninstalling langchain-0.0.283:\n",
      "      Successfully uninstalled langchain-0.0.283\n",
      "  Attempting uninstall: ipywidgets\n",
      "    Found existing installation: ipywidgets 8.0.4\n",
      "    Uninstalling ipywidgets-8.0.4:\n",
      "      Successfully uninstalled ipywidgets-8.0.4\n",
      "  Attempting uninstall: llama_index\n",
      "    Found existing installation: llama-index 0.8.5.post2\n",
      "    Uninstalling llama-index-0.8.5.post2:\n",
      "      Successfully uninstalled llama-index-0.8.5.post2\n",
      "\u001b[31mERROR: pip's dependency resolver does not currently take into account all the packages that are installed. This behaviour is the source of the following dependency conflicts.\n",
      "conda-repo-cli 1.0.41 requires requests_mock, which is not installed.\n",
      "spyder 5.4.3 requires pyqt5<5.16, which is not installed.\n",
      "spyder 5.4.3 requires pyqtwebengine<5.16, which is not installed.\n",
      "rudder-sdk-python 2.0.2 requires python-dotenv~=0.21.0, but you have python-dotenv 1.0.0 which is incompatible.\n",
      "conda-repo-cli 1.0.41 requires clyent==1.2.1, but you have clyent 1.2.2 which is incompatible.\n",
      "conda-repo-cli 1.0.41 requires nbformat==5.4.0, but you have nbformat 5.7.0 which is incompatible.\n",
      "conda-repo-cli 1.0.41 requires requests==2.28.1, but you have requests 2.31.0 which is incompatible.\u001b[0m\u001b[31m\n",
      "\u001b[0mSuccessfully installed Mako-1.3.0 alembic-1.12.1 blinker-1.7.0 cohere-4.34 comm-0.2.0 dnspython-2.4.2 faker-20.0.0 fastavro-1.8.2 favicon-0.7.0 frozendict-2.3.8 gitdb-4.0.11 gitpython-3.1.40 htbuilder-0.6.2 html2text-2020.1.16 ipywidgets-8.1.1 jupyterlab-widgets-3.0.9 kaggle-1.5.16 langchain-0.0.266 llama_index-0.8.4 markdownlit-0.0.7 merkle-json-1.0.0 millify-0.1.1 munch-4.0.0 nltk-3.8.1 pinecone-client-2.2.4 pydeck-0.8.1b0 pymdown-extensions-10.4 pymilvus-2.3.0 python-decouple-3.8 python-dotenv-1.0.0 requests-2.31.0 rich-13.6.0 slack-bolt-1.18.0 slack-sdk-3.23.1 smmap-5.0.1 st-annotated-text-4.0.1 streamlit-1.28.2 streamlit-aggrid-0.3.4.post3 streamlit-camera-input-live-0.2.0 streamlit-card-0.0.61 streamlit-embedcode-0.1.2 streamlit-extras-0.3.5 streamlit-faker-0.0.3 streamlit-image-coordinates-0.1.6 streamlit-javascript-0.1.5 streamlit-keyup-0.2.0 streamlit-toggle-switch-1.0.2 streamlit-vertical-slider-1.0.2 tenacity-8.2.3 trulens-eval-0.12.0 typing-extensions-4.5.0 typing-inspect-0.8.0 tzlocal-5.2 validators-0.22.0 widgetsnbextension-4.0.9\n"
     ]
    }
   ],
   "source": [
    "!pip3 install trulens-eval==0.12.0 llama_index==0.8.4 pymilvus==2.3.0 nltk==3.8.1 html2text==2020.1.16 tenacity==8.2.3"
   ]
  },
  {
   "cell_type": "code",
   "execution_count": 2,
   "id": "a8bd6739-6d68-46f6-b1c6-296b34b07078",
   "metadata": {
    "tags": []
   },
   "outputs": [
    {
     "name": "stdout",
     "output_type": "stream",
     "text": [
      "🦑 Tru initialized with db url sqlite:///default.sqlite .\n",
      "🛑 Secret keys may be written to the database. See the `database_redact_keys` option of `Tru` to prevent this.\n"
     ]
    }
   ],
   "source": [
    "from llama_index.storage.storage_context import StorageContext\n",
    "from llama_index.vector_stores import MilvusVectorStore\n",
    "from llama_index.llms import OpenAI\n",
    "from llama_index import (\n",
    "    VectorStoreIndex,\n",
    "    SimpleWebPageReader,\n",
    "    LLMPredictor,\n",
    "    ServiceContext\n",
    ")\n",
    "\n",
    "from langchain.embeddings import HuggingFaceEmbeddings\n",
    "from langchain.embeddings.openai import OpenAIEmbeddings\n",
    "\n",
    "from tenacity import retry, stop_after_attempt, wait_exponential\n",
    "\n",
    "from trulens_eval import TruLlama, Feedback, Tru, feedback\n",
    "from trulens_eval.feedback import Groundedness\n",
    "tru = Tru()\n"
   ]
  },
  {
   "cell_type": "code",
   "execution_count": 5,
   "id": "fc3f212a-4cb3-416d-ac6b-0f653f531ea4",
   "metadata": {
    "collapsed": true,
    "jupyter": {
     "outputs_hidden": true
    },
    "tags": []
   },
   "outputs": [
    {
     "name": "stdout",
     "output_type": "stream",
     "text": [
      "Collecting wikipedia\n",
      "  Downloading wikipedia-1.4.0.tar.gz (27 kB)\n",
      "  Preparing metadata (setup.py) ... \u001b[?25ldone\n",
      "\u001b[?25hRequirement already satisfied: beautifulsoup4 in /usr/local/anaconda3/lib/python3.11/site-packages (from wikipedia) (4.12.2)\n",
      "Requirement already satisfied: requests<3.0.0,>=2.0.0 in /usr/local/anaconda3/lib/python3.11/site-packages (from wikipedia) (2.31.0)\n",
      "Requirement already satisfied: charset-normalizer<4,>=2 in /usr/local/anaconda3/lib/python3.11/site-packages (from requests<3.0.0,>=2.0.0->wikipedia) (2.0.4)\n",
      "Requirement already satisfied: idna<4,>=2.5 in /usr/local/anaconda3/lib/python3.11/site-packages (from requests<3.0.0,>=2.0.0->wikipedia) (3.4)\n",
      "Requirement already satisfied: urllib3<3,>=1.21.1 in /usr/local/anaconda3/lib/python3.11/site-packages (from requests<3.0.0,>=2.0.0->wikipedia) (1.26.16)\n",
      "Requirement already satisfied: certifi>=2017.4.17 in /usr/local/anaconda3/lib/python3.11/site-packages (from requests<3.0.0,>=2.0.0->wikipedia) (2023.5.7)\n",
      "Requirement already satisfied: soupsieve>1.2 in /usr/local/anaconda3/lib/python3.11/site-packages (from beautifulsoup4->wikipedia) (2.4)\n",
      "Building wheels for collected packages: wikipedia\n",
      "  Building wheel for wikipedia (setup.py) ... \u001b[?25ldone\n",
      "\u001b[?25h  Created wheel for wikipedia: filename=wikipedia-1.4.0-py3-none-any.whl size=11680 sha256=31295d6c4553c97fca068439dbafa6f7c1d9500f91ca0018d44964f858864aa1\n",
      "  Stored in directory: /Users/zangw/Library/Caches/pip/wheels/8f/ab/cb/45ccc40522d3a1c41e1d2ad53b8f33a62f394011ec38cd71c6\n",
      "Successfully built wikipedia\n",
      "Installing collected packages: wikipedia\n",
      "Successfully installed wikipedia-1.4.0\n"
     ]
    }
   ],
   "source": [
    "!pip3 install wikipedia"
   ]
  },
  {
   "cell_type": "code",
   "execution_count": 3,
   "id": "d29ad1b9-58cb-4735-8ec0-13affb1561e7",
   "metadata": {
    "tags": []
   },
   "outputs": [],
   "source": [
    "from llama_index import WikipediaReader\n",
    "\n",
    "cities = [\n",
    "    \"Los Angeles\", \"Houston\", \"Mexico City\",  \"Chicago\"\n",
    "]\n",
    "\n",
    "wiki_docs = []\n",
    "for city in cities:\n",
    "    try:\n",
    "        doc = WikipediaReader().load_data(pages=[city])\n",
    "        wiki_docs.extend(doc)\n",
    "    except Exception as e:\n",
    "        print(f\"Error loading page for city {city}: {e}\")"
   ]
  },
  {
   "cell_type": "code",
   "execution_count": 6,
   "id": "03ea0b4d-20fd-4ec0-a1d6-91c275f512e8",
   "metadata": {
    "collapsed": true,
    "jupyter": {
     "outputs_hidden": true
    },
    "tags": []
   },
   "outputs": [
    {
     "name": "stdout",
     "output_type": "stream",
     "text": [
      "Collecting sentence_transformers\n",
      "  Downloading sentence-transformers-2.2.2.tar.gz (85 kB)\n",
      "\u001b[2K     \u001b[38;2;114;156;31m━━━━━━━━━━━━━━━━━━━━━━━━━━━━━━━━━━━━━━━\u001b[0m \u001b[32m86.0/86.0 kB\u001b[0m \u001b[31m147.8 kB/s\u001b[0m eta \u001b[36m0:00:00\u001b[0m1m142.3 kB/s\u001b[0m eta \u001b[36m0:00:01\u001b[0m\n",
      "\u001b[?25h  Preparing metadata (setup.py) ... \u001b[?25ldone\n",
      "\u001b[?25hRequirement already satisfied: transformers<5.0.0,>=4.6.0 in /usr/local/anaconda3/lib/python3.11/site-packages (from sentence_transformers) (4.31.0)\n",
      "Requirement already satisfied: tqdm in /usr/local/anaconda3/lib/python3.11/site-packages (from sentence_transformers) (4.65.0)\n",
      "Requirement already satisfied: torch>=1.6.0 in /usr/local/anaconda3/lib/python3.11/site-packages (from sentence_transformers) (2.1.0)\n",
      "Requirement already satisfied: torchvision in /usr/local/anaconda3/lib/python3.11/site-packages (from sentence_transformers) (0.16.0)\n",
      "Requirement already satisfied: numpy in /usr/local/anaconda3/lib/python3.11/site-packages (from sentence_transformers) (1.24.3)\n",
      "Requirement already satisfied: scikit-learn in /usr/local/anaconda3/lib/python3.11/site-packages (from sentence_transformers) (1.2.2)\n",
      "Requirement already satisfied: scipy in /usr/local/anaconda3/lib/python3.11/site-packages (from sentence_transformers) (1.10.1)\n",
      "Requirement already satisfied: nltk in /usr/local/anaconda3/lib/python3.11/site-packages (from sentence_transformers) (3.8.1)\n",
      "Requirement already satisfied: sentencepiece in /usr/local/anaconda3/lib/python3.11/site-packages (from sentence_transformers) (0.1.99)\n",
      "Requirement already satisfied: huggingface-hub>=0.4.0 in /usr/local/anaconda3/lib/python3.11/site-packages (from sentence_transformers) (0.16.4)\n",
      "Requirement already satisfied: filelock in /usr/local/anaconda3/lib/python3.11/site-packages (from huggingface-hub>=0.4.0->sentence_transformers) (3.12.4)\n",
      "Requirement already satisfied: fsspec in /usr/local/anaconda3/lib/python3.11/site-packages (from huggingface-hub>=0.4.0->sentence_transformers) (2023.6.0)\n",
      "Requirement already satisfied: requests in /usr/local/anaconda3/lib/python3.11/site-packages (from huggingface-hub>=0.4.0->sentence_transformers) (2.31.0)\n",
      "Requirement already satisfied: pyyaml>=5.1 in /usr/local/anaconda3/lib/python3.11/site-packages (from huggingface-hub>=0.4.0->sentence_transformers) (6.0)\n",
      "Requirement already satisfied: typing-extensions>=3.7.4.3 in /usr/local/anaconda3/lib/python3.11/site-packages (from huggingface-hub>=0.4.0->sentence_transformers) (4.5.0)\n",
      "Requirement already satisfied: packaging>=20.9 in /usr/local/anaconda3/lib/python3.11/site-packages (from huggingface-hub>=0.4.0->sentence_transformers) (23.0)\n",
      "Requirement already satisfied: sympy in /usr/local/anaconda3/lib/python3.11/site-packages (from torch>=1.6.0->sentence_transformers) (1.11.1)\n",
      "Requirement already satisfied: networkx in /usr/local/anaconda3/lib/python3.11/site-packages (from torch>=1.6.0->sentence_transformers) (2.8.4)\n",
      "Requirement already satisfied: jinja2 in /usr/local/anaconda3/lib/python3.11/site-packages (from torch>=1.6.0->sentence_transformers) (3.1.2)\n",
      "Requirement already satisfied: regex!=2019.12.17 in /usr/local/anaconda3/lib/python3.11/site-packages (from transformers<5.0.0,>=4.6.0->sentence_transformers) (2022.7.9)\n",
      "Requirement already satisfied: tokenizers!=0.11.3,<0.14,>=0.11.1 in /usr/local/anaconda3/lib/python3.11/site-packages (from transformers<5.0.0,>=4.6.0->sentence_transformers) (0.13.3)\n",
      "Requirement already satisfied: safetensors>=0.3.1 in /usr/local/anaconda3/lib/python3.11/site-packages (from transformers<5.0.0,>=4.6.0->sentence_transformers) (0.3.2)\n",
      "Requirement already satisfied: click in /usr/local/anaconda3/lib/python3.11/site-packages (from nltk->sentence_transformers) (8.1.7)\n",
      "Requirement already satisfied: joblib in /usr/local/anaconda3/lib/python3.11/site-packages (from nltk->sentence_transformers) (1.2.0)\n",
      "Requirement already satisfied: threadpoolctl>=2.0.0 in /usr/local/anaconda3/lib/python3.11/site-packages (from scikit-learn->sentence_transformers) (2.2.0)\n",
      "Requirement already satisfied: pillow!=8.3.*,>=5.3.0 in /usr/local/anaconda3/lib/python3.11/site-packages (from torchvision->sentence_transformers) (9.4.0)\n",
      "Requirement already satisfied: MarkupSafe>=2.0 in /usr/local/anaconda3/lib/python3.11/site-packages (from jinja2->torch>=1.6.0->sentence_transformers) (2.1.1)\n",
      "Requirement already satisfied: charset-normalizer<4,>=2 in /usr/local/anaconda3/lib/python3.11/site-packages (from requests->huggingface-hub>=0.4.0->sentence_transformers) (2.0.4)\n",
      "Requirement already satisfied: idna<4,>=2.5 in /usr/local/anaconda3/lib/python3.11/site-packages (from requests->huggingface-hub>=0.4.0->sentence_transformers) (3.4)\n",
      "Requirement already satisfied: urllib3<3,>=1.21.1 in /usr/local/anaconda3/lib/python3.11/site-packages (from requests->huggingface-hub>=0.4.0->sentence_transformers) (1.26.16)\n",
      "Requirement already satisfied: certifi>=2017.4.17 in /usr/local/anaconda3/lib/python3.11/site-packages (from requests->huggingface-hub>=0.4.0->sentence_transformers) (2023.5.7)\n",
      "Requirement already satisfied: mpmath>=0.19 in /usr/local/anaconda3/lib/python3.11/site-packages (from sympy->torch>=1.6.0->sentence_transformers) (1.2.1)\n",
      "Building wheels for collected packages: sentence_transformers\n",
      "  Building wheel for sentence_transformers (setup.py) ... \u001b[?25ldone\n",
      "\u001b[?25h  Created wheel for sentence_transformers: filename=sentence_transformers-2.2.2-py3-none-any.whl size=125925 sha256=baeea6ff3a0aea3ed48d3dad5badd0870a7e5e16f37b0c64b89ffb2bb6b8f6ec\n",
      "  Stored in directory: /Users/zangw/Library/Caches/pip/wheels/ff/27/bf/ffba8b318b02d7f691a57084ee154e26ed24d012b0c7805881\n",
      "Successfully built sentence_transformers\n",
      "Installing collected packages: sentence_transformers\n",
      "Successfully installed sentence_transformers-2.2.2\n"
     ]
    }
   ],
   "source": [
    "!pip3 install sentence_transformers"
   ]
  },
  {
   "cell_type": "code",
   "execution_count": 4,
   "id": "3bd6952c-f9cc-447c-b232-282ecda7e49d",
   "metadata": {
    "tags": []
   },
   "outputs": [
    {
     "name": "stderr",
     "output_type": "stream",
     "text": [
      "/usr/local/anaconda3/lib/python3.11/site-packages/bitsandbytes/cextension.py:34: UserWarning: The installed version of bitsandbytes was compiled without GPU support. 8-bit optimizers, 8-bit multiplication, and GPU quantization are unavailable.\n",
      "  warn(\"The installed version of bitsandbytes was compiled without GPU support. \"\n"
     ]
    },
    {
     "name": "stdout",
     "output_type": "stream",
     "text": [
      "'NoneType' object has no attribute 'cadam32bit_grad_fp32'\n"
     ]
    },
    {
     "name": "stderr",
     "output_type": "stream",
     "text": [
      "2023-11-15 12:02:38.310171: I tensorflow/core/platform/cpu_feature_guard.cc:182] This TensorFlow binary is optimized to use available CPU instructions in performance-critical operations.\n",
      "To enable the following instructions: AVX2 FMA, in other operations, rebuild TensorFlow with the appropriate compiler flags.\n"
     ]
    }
   ],
   "source": [
    "test_prompts = [\n",
    "    \"What bodies of water are near Chicago?\",\n",
    "    \"What is the name of Chicago's central business district?\",\n",
    "    \"What are the two most famous universities in Los Angeles?\",\n",
    "    \"What are some famous festivals in Mexico City?\",\n",
    "    \"What professional sports teams are located in Los Angeles\",\n",
    "    \"How do you classify Houston's climate?\"\n",
    "]\n",
    "\n",
    "vector_store = MilvusVectorStore(index_params={\n",
    "        \"index_type\": \"IVF_FLAT\",\n",
    "        \"metric_type\": \"L2\",\n",
    "        \"params\":{\"nlist\":4096}\n",
    "        },\n",
    "        host=\"100.26.179.161\",\n",
    "        port=\"19530\",\n",
    "        search_params={\"nprobe\": 20},\n",
    "        overwrite=True)\n",
    "llm = OpenAI(model=\"gpt-4\")\n",
    "embed_v12 = HuggingFaceEmbeddings(model_name = \"sentence-transformers/paraphrase-multilingual-MiniLM-L12-v2\")\n",
    "storage_context = StorageContext.from_defaults(vector_store = vector_store)\n",
    "service_context = ServiceContext.from_defaults(embed_model = embed_v12, llm = llm)\n",
    "index = VectorStoreIndex.from_documents(wiki_docs,\n",
    "            service_context=service_context,\n",
    "            storage_context=storage_context)\n",
    "query_engine = index.as_query_engine(top_k = 5)\n",
    "\n",
    "@retry(stop=stop_after_attempt(10), wait=wait_exponential(multiplier=1, min=4, max=10))\n",
    "def call_query_engine(prompt):\n",
    "        return query_engine.query(prompt)\n",
    "for prompt in test_prompts:\n",
    "    call_query_engine(prompt)"
   ]
  },
  {
   "cell_type": "code",
   "execution_count": 6,
   "id": "dd9d50b5-5cd0-45bd-9d6a-29363530f616",
   "metadata": {},
   "outputs": [
    {
     "name": "stderr",
     "output_type": "stream",
     "text": [
      "Feedback function `groundedness_measure` was renamed to `groundedness_measure_with_cot_reasons`. The new functionality of `groundedness_measure` function will no longer emit reasons as a lower cost option. It may have reduced accuracy due to not using Chain of Thought reasoning in the scoring.\n"
     ]
    },
    {
     "name": "stdout",
     "output_type": "stream",
     "text": [
      "✅ In Groundedness, input source will be set to *.__record__.app.query.rets.source_nodes[:].node.text .\n",
      "✅ In Groundedness, input statement will be set to *.__record__.main_output or `Select.RecordOutput` .\n",
      "✅ In Answer Relevance, input prompt will be set to *.__record__.main_input or `Select.RecordInput` .\n",
      "✅ In Answer Relevance, input response will be set to *.__record__.main_output or `Select.RecordOutput` .\n",
      "✅ In Context Relevance, input question will be set to *.__record__.main_input or `Select.RecordInput` .\n",
      "✅ In Context Relevance, input statement will be set to *.__record__.app.query.rets.source_nodes[:].node.text .\n"
     ]
    }
   ],
   "source": [
    "import numpy as np\n",
    "\n",
    "# Initialize OpenAI-based feedback function collection class:\n",
    "openai_gpt4 = feedback.OpenAI(model_engine=\"gpt-4\")\n",
    "\n",
    "# Define groundedness\n",
    "grounded = Groundedness(groundedness_provider=openai_gpt4)\n",
    "f_groundedness = Feedback(grounded.groundedness_measure_with_cot_reasons, name = \"Groundedness\").on(\n",
    "    TruLlama.select_source_nodes().node.text # context\n",
    ").on_output().aggregate(grounded.grounded_statements_aggregator)\n",
    "\n",
    "# Question/answer relevance between overall question and answer.\n",
    "f_qa_relevance = Feedback(openai_gpt4.relevance_with_cot_reasons, name = \"Answer Relevance\").on_input_output()\n",
    "\n",
    "# Question/statement relevance between question and each context chunk.\n",
    "f_qs_relevance = Feedback(openai_gpt4.qs_relevance_with_cot_reasons, name = \"Context Relevance\").on_input().on(\n",
    "    TruLlama.select_source_nodes().node.text\n",
    ").aggregate(np.max)"
   ]
  },
  {
   "cell_type": "code",
   "execution_count": 7,
   "id": "f475df2f-58b2-4468-a274-4aef98025d57",
   "metadata": {},
   "outputs": [
    {
     "name": "stderr",
     "output_type": "stream",
     "text": [
      "/usr/local/anaconda3/lib/python3.11/site-packages/langchain/embeddings/openai.py:214: UserWarning: WARNING! model_name is not default parameter.\n",
      "                    model_name was transferred to model_kwargs.\n",
      "                    Please confirm that model_name is what you intended.\n",
      "  warnings.warn(\n"
     ]
    }
   ],
   "source": [
    "index_params = [\"IVF_FLAT\",\"HNSW\"]\n",
    "embed_v12 = HuggingFaceEmbeddings(model_name = \"sentence-transformers/paraphrase-multilingual-MiniLM-L12-v2\")\n",
    "embed_ft3_v12 = HuggingFaceEmbeddings(model_name = \"Sprylab/paraphrase-multilingual-MiniLM-L12-v2-fine-tuned-3\")\n",
    "embed_ada = OpenAIEmbeddings(model_name = \"text-embedding-ada-002\")\n",
    "embed_models = [embed_v12, embed_ada]\n",
    "top_ks = [1,3]\n",
    "chunk_sizes = [200,500]"
   ]
  },
  {
   "cell_type": "code",
   "execution_count": 8,
   "id": "4ca29631-0866-4b53-ac27-6439161afaad",
   "metadata": {
    "tags": []
   },
   "outputs": [
    {
     "name": "stderr",
     "output_type": "stream",
     "text": [
      "Feedback function `groundedness_measure` was renamed to `groundedness_measure_with_cot_reasons`. The new functionality of `groundedness_measure` function will no longer emit reasons as a lower cost option. It may have reduced accuracy due to not using Chain of Thought reasoning in the scoring.\n"
     ]
    },
    {
     "name": "stdout",
     "output_type": "stream",
     "text": [
      "✅ In Groundedness, input source will be set to *.__record__.app.query.rets.source_nodes[:].node.text .\n",
      "✅ In Groundedness, input statement will be set to *.__record__.main_output or `Select.RecordOutput` .\n",
      "✅ In Answer Relevance, input prompt will be set to *.__record__.main_input or `Select.RecordInput` .\n",
      "✅ In Answer Relevance, input response will be set to *.__record__.main_output or `Select.RecordOutput` .\n",
      "✅ In Context Relevance, input question will be set to *.__record__.main_input or `Select.RecordInput` .\n",
      "✅ In Context Relevance, input statement will be set to *.__record__.app.query.rets.source_nodes[:].node.text .\n"
     ]
    }
   ],
   "source": [
    "import numpy as np\n",
    "\n",
    "# Initialize OpenAI-based feedback function collection class:\n",
    "openai_gpt35 = feedback.OpenAI(model_engine=\"gpt-4\")\n",
    "\n",
    "# Define groundedness\n",
    "grounded = Groundedness(groundedness_provider=openai_gpt35)\n",
    "f_groundedness = Feedback(grounded.groundedness_measure_with_cot_reasons, name = \"Groundedness\").on(\n",
    "    TruLlama.select_source_nodes().node.text # context\n",
    ").on_output().aggregate(grounded.grounded_statements_aggregator)\n",
    "\n",
    "# Question/answer relevance between overall question and answer.\n",
    "f_qa_relevance = Feedback(openai_gpt35.relevance_with_cot_reasons, name = \"Answer Relevance\").on_input_output()\n",
    "\n",
    "# Question/statement relevance between question and each context chunk.\n",
    "f_qs_relevance = Feedback(openai_gpt35.qs_relevance_with_cot_reasons, name = \"Context Relevance\").on_input().on(\n",
    "    TruLlama.select_source_nodes().node.text\n",
    ").aggregate(np.max)"
   ]
  },
  {
   "cell_type": "code",
   "execution_count": 9,
   "id": "f9201e16-cbbe-4d2b-8862-e2ee40b2bd9d",
   "metadata": {},
   "outputs": [
    {
     "name": "stdout",
     "output_type": "stream",
     "text": [
      "Task queue full. Finishing existing tasks.\n",
      "Task queue full. Finishing existing tasks.\n"
     ]
    },
    {
     "ename": "KeyboardInterrupt",
     "evalue": "",
     "output_type": "error",
     "traceback": [
      "\u001b[0;31m---------------------------------------------------------------------------\u001b[0m",
      "\u001b[0;31mKeyboardInterrupt\u001b[0m                         Traceback (most recent call last)",
      "Cell \u001b[0;32mIn[9], line 23\u001b[0m\n\u001b[1;32m     21\u001b[0m storage_context \u001b[38;5;241m=\u001b[39m StorageContext\u001b[38;5;241m.\u001b[39mfrom_defaults(vector_store \u001b[38;5;241m=\u001b[39m vector_store)\n\u001b[1;32m     22\u001b[0m service_context \u001b[38;5;241m=\u001b[39m ServiceContext\u001b[38;5;241m.\u001b[39mfrom_defaults(embed_model \u001b[38;5;241m=\u001b[39m embed_model, llm \u001b[38;5;241m=\u001b[39m llm, chunk_size\u001b[38;5;241m=\u001b[39mchunk_size)\n\u001b[0;32m---> 23\u001b[0m index \u001b[38;5;241m=\u001b[39m VectorStoreIndex\u001b[38;5;241m.\u001b[39mfrom_documents(wiki_docs,\n\u001b[1;32m     24\u001b[0m         service_context\u001b[38;5;241m=\u001b[39mservice_context,\n\u001b[1;32m     25\u001b[0m         storage_context\u001b[38;5;241m=\u001b[39mstorage_context)\n\u001b[1;32m     26\u001b[0m query_engine \u001b[38;5;241m=\u001b[39m index\u001b[38;5;241m.\u001b[39mas_query_engine(similarity_top_k \u001b[38;5;241m=\u001b[39m top_k)\n\u001b[1;32m     27\u001b[0m tru_query_engine \u001b[38;5;241m=\u001b[39m TruLlama(query_engine,\n\u001b[1;32m     28\u001b[0m                 feedbacks\u001b[38;5;241m=\u001b[39m[f_groundedness, f_qa_relevance, f_qs_relevance],\n\u001b[1;32m     29\u001b[0m                 metadata\u001b[38;5;241m=\u001b[39m{\n\u001b[0;32m   (...)\u001b[0m\n\u001b[1;32m     33\u001b[0m                     \u001b[38;5;124m'\u001b[39m\u001b[38;5;124mchunk_size\u001b[39m\u001b[38;5;124m'\u001b[39m:chunk_size\n\u001b[1;32m     34\u001b[0m                     })\n",
      "File \u001b[0;32m/usr/local/anaconda3/lib/python3.11/site-packages/llama_index/indices/base.py:102\u001b[0m, in \u001b[0;36mBaseIndex.from_documents\u001b[0;34m(cls, documents, storage_context, service_context, show_progress, **kwargs)\u001b[0m\n\u001b[1;32m     97\u001b[0m     docstore\u001b[38;5;241m.\u001b[39mset_document_hash(doc\u001b[38;5;241m.\u001b[39mget_doc_id(), doc\u001b[38;5;241m.\u001b[39mhash)\n\u001b[1;32m     98\u001b[0m nodes \u001b[38;5;241m=\u001b[39m service_context\u001b[38;5;241m.\u001b[39mnode_parser\u001b[38;5;241m.\u001b[39mget_nodes_from_documents(\n\u001b[1;32m     99\u001b[0m     documents, show_progress\u001b[38;5;241m=\u001b[39mshow_progress\n\u001b[1;32m    100\u001b[0m )\n\u001b[0;32m--> 102\u001b[0m \u001b[38;5;28;01mreturn\u001b[39;00m \u001b[38;5;28mcls\u001b[39m(\n\u001b[1;32m    103\u001b[0m     nodes\u001b[38;5;241m=\u001b[39mnodes,\n\u001b[1;32m    104\u001b[0m     storage_context\u001b[38;5;241m=\u001b[39mstorage_context,\n\u001b[1;32m    105\u001b[0m     service_context\u001b[38;5;241m=\u001b[39mservice_context,\n\u001b[1;32m    106\u001b[0m     show_progress\u001b[38;5;241m=\u001b[39mshow_progress,\n\u001b[1;32m    107\u001b[0m     \u001b[38;5;241m*\u001b[39m\u001b[38;5;241m*\u001b[39mkwargs,\n\u001b[1;32m    108\u001b[0m )\n",
      "File \u001b[0;32m/usr/local/anaconda3/lib/python3.11/site-packages/llama_index/indices/vector_store/base.py:46\u001b[0m, in \u001b[0;36mVectorStoreIndex.__init__\u001b[0;34m(self, nodes, index_struct, service_context, storage_context, use_async, store_nodes_override, show_progress, **kwargs)\u001b[0m\n\u001b[1;32m     44\u001b[0m \u001b[38;5;28mself\u001b[39m\u001b[38;5;241m.\u001b[39m_use_async \u001b[38;5;241m=\u001b[39m use_async\n\u001b[1;32m     45\u001b[0m \u001b[38;5;28mself\u001b[39m\u001b[38;5;241m.\u001b[39m_store_nodes_override \u001b[38;5;241m=\u001b[39m store_nodes_override\n\u001b[0;32m---> 46\u001b[0m \u001b[38;5;28msuper\u001b[39m()\u001b[38;5;241m.\u001b[39m\u001b[38;5;21m__init__\u001b[39m(\n\u001b[1;32m     47\u001b[0m     nodes\u001b[38;5;241m=\u001b[39mnodes,\n\u001b[1;32m     48\u001b[0m     index_struct\u001b[38;5;241m=\u001b[39mindex_struct,\n\u001b[1;32m     49\u001b[0m     service_context\u001b[38;5;241m=\u001b[39mservice_context,\n\u001b[1;32m     50\u001b[0m     storage_context\u001b[38;5;241m=\u001b[39mstorage_context,\n\u001b[1;32m     51\u001b[0m     show_progress\u001b[38;5;241m=\u001b[39mshow_progress,\n\u001b[1;32m     52\u001b[0m     \u001b[38;5;241m*\u001b[39m\u001b[38;5;241m*\u001b[39mkwargs,\n\u001b[1;32m     53\u001b[0m )\n",
      "File \u001b[0;32m/usr/local/anaconda3/lib/python3.11/site-packages/llama_index/indices/base.py:71\u001b[0m, in \u001b[0;36mBaseIndex.__init__\u001b[0;34m(self, nodes, index_struct, storage_context, service_context, show_progress, **kwargs)\u001b[0m\n\u001b[1;32m     69\u001b[0m \u001b[38;5;28;01mif\u001b[39;00m index_struct \u001b[38;5;129;01mis\u001b[39;00m \u001b[38;5;28;01mNone\u001b[39;00m:\n\u001b[1;32m     70\u001b[0m     \u001b[38;5;28;01massert\u001b[39;00m nodes \u001b[38;5;129;01mis\u001b[39;00m \u001b[38;5;129;01mnot\u001b[39;00m \u001b[38;5;28;01mNone\u001b[39;00m\n\u001b[0;32m---> 71\u001b[0m     index_struct \u001b[38;5;241m=\u001b[39m \u001b[38;5;28mself\u001b[39m\u001b[38;5;241m.\u001b[39mbuild_index_from_nodes(nodes)\n\u001b[1;32m     72\u001b[0m \u001b[38;5;28mself\u001b[39m\u001b[38;5;241m.\u001b[39m_index_struct \u001b[38;5;241m=\u001b[39m index_struct\n\u001b[1;32m     73\u001b[0m \u001b[38;5;28mself\u001b[39m\u001b[38;5;241m.\u001b[39m_storage_context\u001b[38;5;241m.\u001b[39mindex_store\u001b[38;5;241m.\u001b[39madd_index_struct(\u001b[38;5;28mself\u001b[39m\u001b[38;5;241m.\u001b[39m_index_struct)\n",
      "File \u001b[0;32m/usr/local/anaconda3/lib/python3.11/site-packages/llama_index/indices/vector_store/base.py:241\u001b[0m, in \u001b[0;36mVectorStoreIndex.build_index_from_nodes\u001b[0;34m(self, nodes)\u001b[0m\n\u001b[1;32m    234\u001b[0m \u001b[38;5;28;01mdef\u001b[39;00m \u001b[38;5;21mbuild_index_from_nodes\u001b[39m(\u001b[38;5;28mself\u001b[39m, nodes: Sequence[BaseNode]) \u001b[38;5;241m-\u001b[39m\u001b[38;5;241m>\u001b[39m IndexDict:\n\u001b[1;32m    235\u001b[0m \u001b[38;5;250m    \u001b[39m\u001b[38;5;124;03m\"\"\"Build the index from nodes.\u001b[39;00m\n\u001b[1;32m    236\u001b[0m \n\u001b[1;32m    237\u001b[0m \u001b[38;5;124;03m    NOTE: Overrides BaseIndex.build_index_from_nodes.\u001b[39;00m\n\u001b[1;32m    238\u001b[0m \u001b[38;5;124;03m        VectorStoreIndex only stores nodes in document store\u001b[39;00m\n\u001b[1;32m    239\u001b[0m \u001b[38;5;124;03m        if vector store does not store text\u001b[39;00m\n\u001b[1;32m    240\u001b[0m \u001b[38;5;124;03m    \"\"\"\u001b[39;00m\n\u001b[0;32m--> 241\u001b[0m     \u001b[38;5;28;01mreturn\u001b[39;00m \u001b[38;5;28mself\u001b[39m\u001b[38;5;241m.\u001b[39m_build_index_from_nodes(nodes)\n",
      "File \u001b[0;32m/usr/local/anaconda3/lib/python3.11/site-packages/llama_index/indices/vector_store/base.py:229\u001b[0m, in \u001b[0;36mVectorStoreIndex._build_index_from_nodes\u001b[0;34m(self, nodes)\u001b[0m\n\u001b[1;32m    227\u001b[0m     run_async_tasks(tasks)\n\u001b[1;32m    228\u001b[0m \u001b[38;5;28;01melse\u001b[39;00m:\n\u001b[0;32m--> 229\u001b[0m     \u001b[38;5;28mself\u001b[39m\u001b[38;5;241m.\u001b[39m_add_nodes_to_index(\n\u001b[1;32m    230\u001b[0m         index_struct, nodes, show_progress\u001b[38;5;241m=\u001b[39m\u001b[38;5;28mself\u001b[39m\u001b[38;5;241m.\u001b[39m_show_progress\n\u001b[1;32m    231\u001b[0m     )\n\u001b[1;32m    232\u001b[0m \u001b[38;5;28;01mreturn\u001b[39;00m index_struct\n",
      "File \u001b[0;32m/usr/local/anaconda3/lib/python3.11/site-packages/llama_index/indices/vector_store/base.py:201\u001b[0m, in \u001b[0;36mVectorStoreIndex._add_nodes_to_index\u001b[0;34m(self, index_struct, nodes, show_progress)\u001b[0m\n\u001b[1;32m    198\u001b[0m \u001b[38;5;28;01mif\u001b[39;00m \u001b[38;5;129;01mnot\u001b[39;00m nodes:\n\u001b[1;32m    199\u001b[0m     \u001b[38;5;28;01mreturn\u001b[39;00m\n\u001b[0;32m--> 201\u001b[0m embedding_results \u001b[38;5;241m=\u001b[39m \u001b[38;5;28mself\u001b[39m\u001b[38;5;241m.\u001b[39m_get_node_embedding_results(nodes, show_progress)\n\u001b[1;32m    202\u001b[0m new_ids \u001b[38;5;241m=\u001b[39m \u001b[38;5;28mself\u001b[39m\u001b[38;5;241m.\u001b[39m_vector_store\u001b[38;5;241m.\u001b[39madd(embedding_results)\n\u001b[1;32m    204\u001b[0m \u001b[38;5;28;01mif\u001b[39;00m \u001b[38;5;129;01mnot\u001b[39;00m \u001b[38;5;28mself\u001b[39m\u001b[38;5;241m.\u001b[39m_vector_store\u001b[38;5;241m.\u001b[39mstores_text \u001b[38;5;129;01mor\u001b[39;00m \u001b[38;5;28mself\u001b[39m\u001b[38;5;241m.\u001b[39m_store_nodes_override:\n\u001b[1;32m    205\u001b[0m     \u001b[38;5;66;03m# NOTE: if the vector store doesn't store text,\u001b[39;00m\n\u001b[1;32m    206\u001b[0m     \u001b[38;5;66;03m# we need to add the nodes to the index struct and document store\u001b[39;00m\n",
      "File \u001b[0;32m/usr/local/anaconda3/lib/python3.11/site-packages/llama_index/indices/vector_store/base.py:111\u001b[0m, in \u001b[0;36mVectorStoreIndex._get_node_embedding_results\u001b[0;34m(self, nodes, show_progress)\u001b[0m\n\u001b[1;32m    105\u001b[0m         id_to_embed_map[n\u001b[38;5;241m.\u001b[39mnode_id] \u001b[38;5;241m=\u001b[39m n\u001b[38;5;241m.\u001b[39membedding\n\u001b[1;32m    107\u001b[0m \u001b[38;5;66;03m# call embedding model to get embeddings\u001b[39;00m\n\u001b[1;32m    108\u001b[0m (\n\u001b[1;32m    109\u001b[0m     result_ids,\n\u001b[1;32m    110\u001b[0m     result_embeddings,\n\u001b[0;32m--> 111\u001b[0m ) \u001b[38;5;241m=\u001b[39m \u001b[38;5;28mself\u001b[39m\u001b[38;5;241m.\u001b[39m_service_context\u001b[38;5;241m.\u001b[39membed_model\u001b[38;5;241m.\u001b[39mget_queued_text_embeddings(show_progress)\n\u001b[1;32m    112\u001b[0m \u001b[38;5;28;01mfor\u001b[39;00m new_id, text_embedding \u001b[38;5;129;01min\u001b[39;00m \u001b[38;5;28mzip\u001b[39m(result_ids, result_embeddings):\n\u001b[1;32m    113\u001b[0m     id_to_embed_map[new_id] \u001b[38;5;241m=\u001b[39m text_embedding\n",
      "File \u001b[0;32m/usr/local/anaconda3/lib/python3.11/site-packages/llama_index/embeddings/base.py:214\u001b[0m, in \u001b[0;36mBaseEmbedding.get_queued_text_embeddings\u001b[0;34m(self, show_progress)\u001b[0m\n\u001b[1;32m    212\u001b[0m cur_batch_ids \u001b[38;5;241m=\u001b[39m [text_id \u001b[38;5;28;01mfor\u001b[39;00m text_id, _ \u001b[38;5;129;01min\u001b[39;00m cur_batch]\n\u001b[1;32m    213\u001b[0m cur_batch_texts \u001b[38;5;241m=\u001b[39m [text \u001b[38;5;28;01mfor\u001b[39;00m _, text \u001b[38;5;129;01min\u001b[39;00m cur_batch]\n\u001b[0;32m--> 214\u001b[0m embeddings \u001b[38;5;241m=\u001b[39m \u001b[38;5;28mself\u001b[39m\u001b[38;5;241m.\u001b[39m_get_text_embeddings(cur_batch_texts)\n\u001b[1;32m    215\u001b[0m result_ids\u001b[38;5;241m.\u001b[39mextend(cur_batch_ids)\n\u001b[1;32m    216\u001b[0m result_embeddings\u001b[38;5;241m.\u001b[39mextend(embeddings)\n",
      "File \u001b[0;32m/usr/local/anaconda3/lib/python3.11/site-packages/llama_index/embeddings/langchain.py:40\u001b[0m, in \u001b[0;36mLangchainEmbedding._get_text_embeddings\u001b[0;34m(self, texts)\u001b[0m\n\u001b[1;32m     38\u001b[0m \u001b[38;5;28;01mdef\u001b[39;00m \u001b[38;5;21m_get_text_embeddings\u001b[39m(\u001b[38;5;28mself\u001b[39m, texts: List[\u001b[38;5;28mstr\u001b[39m]) \u001b[38;5;241m-\u001b[39m\u001b[38;5;241m>\u001b[39m List[List[\u001b[38;5;28mfloat\u001b[39m]]:\n\u001b[1;32m     39\u001b[0m \u001b[38;5;250m    \u001b[39m\u001b[38;5;124;03m\"\"\"Get text embeddings.\"\"\"\u001b[39;00m\n\u001b[0;32m---> 40\u001b[0m     \u001b[38;5;28;01mreturn\u001b[39;00m \u001b[38;5;28mself\u001b[39m\u001b[38;5;241m.\u001b[39m_langchain_embedding\u001b[38;5;241m.\u001b[39membed_documents(texts)\n",
      "File \u001b[0;32m/usr/local/anaconda3/lib/python3.11/site-packages/langchain/embeddings/openai.py:478\u001b[0m, in \u001b[0;36mOpenAIEmbeddings.embed_documents\u001b[0;34m(self, texts, chunk_size)\u001b[0m\n\u001b[1;32m    466\u001b[0m \u001b[38;5;250m\u001b[39m\u001b[38;5;124;03m\"\"\"Call out to OpenAI's embedding endpoint for embedding search docs.\u001b[39;00m\n\u001b[1;32m    467\u001b[0m \n\u001b[1;32m    468\u001b[0m \u001b[38;5;124;03mArgs:\u001b[39;00m\n\u001b[0;32m   (...)\u001b[0m\n\u001b[1;32m    474\u001b[0m \u001b[38;5;124;03m    List of embeddings, one for each text.\u001b[39;00m\n\u001b[1;32m    475\u001b[0m \u001b[38;5;124;03m\"\"\"\u001b[39;00m\n\u001b[1;32m    476\u001b[0m \u001b[38;5;66;03m# NOTE: to keep things simple, we assume the list may contain texts longer\u001b[39;00m\n\u001b[1;32m    477\u001b[0m \u001b[38;5;66;03m#       than the maximum context and use length-safe embedding function.\u001b[39;00m\n\u001b[0;32m--> 478\u001b[0m \u001b[38;5;28;01mreturn\u001b[39;00m \u001b[38;5;28mself\u001b[39m\u001b[38;5;241m.\u001b[39m_get_len_safe_embeddings(texts, engine\u001b[38;5;241m=\u001b[39m\u001b[38;5;28mself\u001b[39m\u001b[38;5;241m.\u001b[39mdeployment)\n",
      "File \u001b[0;32m/usr/local/anaconda3/lib/python3.11/site-packages/langchain/embeddings/openai.py:364\u001b[0m, in \u001b[0;36mOpenAIEmbeddings._get_len_safe_embeddings\u001b[0;34m(self, texts, engine, chunk_size)\u001b[0m\n\u001b[1;32m    361\u001b[0m     _iter \u001b[38;5;241m=\u001b[39m \u001b[38;5;28mrange\u001b[39m(\u001b[38;5;241m0\u001b[39m, \u001b[38;5;28mlen\u001b[39m(tokens), _chunk_size)\n\u001b[1;32m    363\u001b[0m \u001b[38;5;28;01mfor\u001b[39;00m i \u001b[38;5;129;01min\u001b[39;00m _iter:\n\u001b[0;32m--> 364\u001b[0m     response \u001b[38;5;241m=\u001b[39m embed_with_retry(\n\u001b[1;32m    365\u001b[0m         \u001b[38;5;28mself\u001b[39m,\n\u001b[1;32m    366\u001b[0m         \u001b[38;5;28minput\u001b[39m\u001b[38;5;241m=\u001b[39mtokens[i : i \u001b[38;5;241m+\u001b[39m _chunk_size],\n\u001b[1;32m    367\u001b[0m         \u001b[38;5;241m*\u001b[39m\u001b[38;5;241m*\u001b[39m\u001b[38;5;28mself\u001b[39m\u001b[38;5;241m.\u001b[39m_invocation_params,\n\u001b[1;32m    368\u001b[0m     )\n\u001b[1;32m    369\u001b[0m     batched_embeddings\u001b[38;5;241m.\u001b[39mextend(r[\u001b[38;5;124m\"\u001b[39m\u001b[38;5;124membedding\u001b[39m\u001b[38;5;124m\"\u001b[39m] \u001b[38;5;28;01mfor\u001b[39;00m r \u001b[38;5;129;01min\u001b[39;00m response[\u001b[38;5;124m\"\u001b[39m\u001b[38;5;124mdata\u001b[39m\u001b[38;5;124m\"\u001b[39m])\n\u001b[1;32m    371\u001b[0m results: List[List[List[\u001b[38;5;28mfloat\u001b[39m]]] \u001b[38;5;241m=\u001b[39m [[] \u001b[38;5;28;01mfor\u001b[39;00m _ \u001b[38;5;129;01min\u001b[39;00m \u001b[38;5;28mrange\u001b[39m(\u001b[38;5;28mlen\u001b[39m(texts))]\n",
      "File \u001b[0;32m/usr/local/anaconda3/lib/python3.11/site-packages/langchain/embeddings/openai.py:107\u001b[0m, in \u001b[0;36membed_with_retry\u001b[0;34m(embeddings, **kwargs)\u001b[0m\n\u001b[1;32m    104\u001b[0m     response \u001b[38;5;241m=\u001b[39m embeddings\u001b[38;5;241m.\u001b[39mclient\u001b[38;5;241m.\u001b[39mcreate(\u001b[38;5;241m*\u001b[39m\u001b[38;5;241m*\u001b[39mkwargs)\n\u001b[1;32m    105\u001b[0m     \u001b[38;5;28;01mreturn\u001b[39;00m _check_response(response)\n\u001b[0;32m--> 107\u001b[0m \u001b[38;5;28;01mreturn\u001b[39;00m _embed_with_retry(\u001b[38;5;241m*\u001b[39m\u001b[38;5;241m*\u001b[39mkwargs)\n",
      "File \u001b[0;32m/usr/local/anaconda3/lib/python3.11/site-packages/tenacity/__init__.py:289\u001b[0m, in \u001b[0;36mBaseRetrying.wraps.<locals>.wrapped_f\u001b[0;34m(*args, **kw)\u001b[0m\n\u001b[1;32m    287\u001b[0m \u001b[38;5;129m@functools\u001b[39m\u001b[38;5;241m.\u001b[39mwraps(f)\n\u001b[1;32m    288\u001b[0m \u001b[38;5;28;01mdef\u001b[39;00m \u001b[38;5;21mwrapped_f\u001b[39m(\u001b[38;5;241m*\u001b[39margs: t\u001b[38;5;241m.\u001b[39mAny, \u001b[38;5;241m*\u001b[39m\u001b[38;5;241m*\u001b[39mkw: t\u001b[38;5;241m.\u001b[39mAny) \u001b[38;5;241m-\u001b[39m\u001b[38;5;241m>\u001b[39m t\u001b[38;5;241m.\u001b[39mAny:\n\u001b[0;32m--> 289\u001b[0m     \u001b[38;5;28;01mreturn\u001b[39;00m \u001b[38;5;28mself\u001b[39m(f, \u001b[38;5;241m*\u001b[39margs, \u001b[38;5;241m*\u001b[39m\u001b[38;5;241m*\u001b[39mkw)\n",
      "File \u001b[0;32m/usr/local/anaconda3/lib/python3.11/site-packages/tenacity/__init__.py:379\u001b[0m, in \u001b[0;36mRetrying.__call__\u001b[0;34m(self, fn, *args, **kwargs)\u001b[0m\n\u001b[1;32m    377\u001b[0m retry_state \u001b[38;5;241m=\u001b[39m RetryCallState(retry_object\u001b[38;5;241m=\u001b[39m\u001b[38;5;28mself\u001b[39m, fn\u001b[38;5;241m=\u001b[39mfn, args\u001b[38;5;241m=\u001b[39margs, kwargs\u001b[38;5;241m=\u001b[39mkwargs)\n\u001b[1;32m    378\u001b[0m \u001b[38;5;28;01mwhile\u001b[39;00m \u001b[38;5;28;01mTrue\u001b[39;00m:\n\u001b[0;32m--> 379\u001b[0m     do \u001b[38;5;241m=\u001b[39m \u001b[38;5;28mself\u001b[39m\u001b[38;5;241m.\u001b[39miter(retry_state\u001b[38;5;241m=\u001b[39mretry_state)\n\u001b[1;32m    380\u001b[0m     \u001b[38;5;28;01mif\u001b[39;00m \u001b[38;5;28misinstance\u001b[39m(do, DoAttempt):\n\u001b[1;32m    381\u001b[0m         \u001b[38;5;28;01mtry\u001b[39;00m:\n",
      "File \u001b[0;32m/usr/local/anaconda3/lib/python3.11/site-packages/tenacity/__init__.py:314\u001b[0m, in \u001b[0;36mBaseRetrying.iter\u001b[0;34m(self, retry_state)\u001b[0m\n\u001b[1;32m    312\u001b[0m is_explicit_retry \u001b[38;5;241m=\u001b[39m fut\u001b[38;5;241m.\u001b[39mfailed \u001b[38;5;129;01mand\u001b[39;00m \u001b[38;5;28misinstance\u001b[39m(fut\u001b[38;5;241m.\u001b[39mexception(), TryAgain)\n\u001b[1;32m    313\u001b[0m \u001b[38;5;28;01mif\u001b[39;00m \u001b[38;5;129;01mnot\u001b[39;00m (is_explicit_retry \u001b[38;5;129;01mor\u001b[39;00m \u001b[38;5;28mself\u001b[39m\u001b[38;5;241m.\u001b[39mretry(retry_state)):\n\u001b[0;32m--> 314\u001b[0m     \u001b[38;5;28;01mreturn\u001b[39;00m fut\u001b[38;5;241m.\u001b[39mresult()\n\u001b[1;32m    316\u001b[0m \u001b[38;5;28;01mif\u001b[39;00m \u001b[38;5;28mself\u001b[39m\u001b[38;5;241m.\u001b[39mafter \u001b[38;5;129;01mis\u001b[39;00m \u001b[38;5;129;01mnot\u001b[39;00m \u001b[38;5;28;01mNone\u001b[39;00m:\n\u001b[1;32m    317\u001b[0m     \u001b[38;5;28mself\u001b[39m\u001b[38;5;241m.\u001b[39mafter(retry_state)\n",
      "File \u001b[0;32m/usr/local/anaconda3/lib/python3.11/concurrent/futures/_base.py:449\u001b[0m, in \u001b[0;36mFuture.result\u001b[0;34m(self, timeout)\u001b[0m\n\u001b[1;32m    447\u001b[0m     \u001b[38;5;28;01mraise\u001b[39;00m CancelledError()\n\u001b[1;32m    448\u001b[0m \u001b[38;5;28;01melif\u001b[39;00m \u001b[38;5;28mself\u001b[39m\u001b[38;5;241m.\u001b[39m_state \u001b[38;5;241m==\u001b[39m FINISHED:\n\u001b[0;32m--> 449\u001b[0m     \u001b[38;5;28;01mreturn\u001b[39;00m \u001b[38;5;28mself\u001b[39m\u001b[38;5;241m.\u001b[39m__get_result()\n\u001b[1;32m    451\u001b[0m \u001b[38;5;28mself\u001b[39m\u001b[38;5;241m.\u001b[39m_condition\u001b[38;5;241m.\u001b[39mwait(timeout)\n\u001b[1;32m    453\u001b[0m \u001b[38;5;28;01mif\u001b[39;00m \u001b[38;5;28mself\u001b[39m\u001b[38;5;241m.\u001b[39m_state \u001b[38;5;129;01min\u001b[39;00m [CANCELLED, CANCELLED_AND_NOTIFIED]:\n",
      "File \u001b[0;32m/usr/local/anaconda3/lib/python3.11/concurrent/futures/_base.py:401\u001b[0m, in \u001b[0;36mFuture.__get_result\u001b[0;34m(self)\u001b[0m\n\u001b[1;32m    399\u001b[0m \u001b[38;5;28;01mif\u001b[39;00m \u001b[38;5;28mself\u001b[39m\u001b[38;5;241m.\u001b[39m_exception:\n\u001b[1;32m    400\u001b[0m     \u001b[38;5;28;01mtry\u001b[39;00m:\n\u001b[0;32m--> 401\u001b[0m         \u001b[38;5;28;01mraise\u001b[39;00m \u001b[38;5;28mself\u001b[39m\u001b[38;5;241m.\u001b[39m_exception\n\u001b[1;32m    402\u001b[0m     \u001b[38;5;28;01mfinally\u001b[39;00m:\n\u001b[1;32m    403\u001b[0m         \u001b[38;5;66;03m# Break a reference cycle with the exception in self._exception\u001b[39;00m\n\u001b[1;32m    404\u001b[0m         \u001b[38;5;28mself\u001b[39m \u001b[38;5;241m=\u001b[39m \u001b[38;5;28;01mNone\u001b[39;00m\n",
      "File \u001b[0;32m/usr/local/anaconda3/lib/python3.11/site-packages/tenacity/__init__.py:382\u001b[0m, in \u001b[0;36mRetrying.__call__\u001b[0;34m(self, fn, *args, **kwargs)\u001b[0m\n\u001b[1;32m    380\u001b[0m \u001b[38;5;28;01mif\u001b[39;00m \u001b[38;5;28misinstance\u001b[39m(do, DoAttempt):\n\u001b[1;32m    381\u001b[0m     \u001b[38;5;28;01mtry\u001b[39;00m:\n\u001b[0;32m--> 382\u001b[0m         result \u001b[38;5;241m=\u001b[39m fn(\u001b[38;5;241m*\u001b[39margs, \u001b[38;5;241m*\u001b[39m\u001b[38;5;241m*\u001b[39mkwargs)\n\u001b[1;32m    383\u001b[0m     \u001b[38;5;28;01mexcept\u001b[39;00m \u001b[38;5;167;01mBaseException\u001b[39;00m:  \u001b[38;5;66;03m# noqa: B902\u001b[39;00m\n\u001b[1;32m    384\u001b[0m         retry_state\u001b[38;5;241m.\u001b[39mset_exception(sys\u001b[38;5;241m.\u001b[39mexc_info())  \u001b[38;5;66;03m# type: ignore[arg-type]\u001b[39;00m\n",
      "File \u001b[0;32m/usr/local/anaconda3/lib/python3.11/site-packages/langchain/embeddings/openai.py:104\u001b[0m, in \u001b[0;36membed_with_retry.<locals>._embed_with_retry\u001b[0;34m(**kwargs)\u001b[0m\n\u001b[1;32m    102\u001b[0m \u001b[38;5;129m@retry_decorator\u001b[39m\n\u001b[1;32m    103\u001b[0m \u001b[38;5;28;01mdef\u001b[39;00m \u001b[38;5;21m_embed_with_retry\u001b[39m(\u001b[38;5;241m*\u001b[39m\u001b[38;5;241m*\u001b[39mkwargs: Any) \u001b[38;5;241m-\u001b[39m\u001b[38;5;241m>\u001b[39m Any:\n\u001b[0;32m--> 104\u001b[0m     response \u001b[38;5;241m=\u001b[39m embeddings\u001b[38;5;241m.\u001b[39mclient\u001b[38;5;241m.\u001b[39mcreate(\u001b[38;5;241m*\u001b[39m\u001b[38;5;241m*\u001b[39mkwargs)\n\u001b[1;32m    105\u001b[0m     \u001b[38;5;28;01mreturn\u001b[39;00m _check_response(response)\n",
      "File \u001b[0;32m/usr/local/anaconda3/lib/python3.11/site-packages/trulens_eval/feedback/provider/endpoint/base.py:716\u001b[0m, in \u001b[0;36mEndpoint.wrap_function.<locals>.wrapper\u001b[0;34m(*args, **kwargs)\u001b[0m\n\u001b[1;32m    710\u001b[0m registered_callback_classes \u001b[38;5;241m=\u001b[39m \u001b[38;5;28mgetattr\u001b[39m(wrapper, INSTRUMENT)\n\u001b[1;32m    712\u001b[0m \u001b[38;5;66;03m# Look up the endpoints that are expecting to be notified and the\u001b[39;00m\n\u001b[1;32m    713\u001b[0m \u001b[38;5;66;03m# callback tracking the tally. See Endpoint._track_costs for\u001b[39;00m\n\u001b[1;32m    714\u001b[0m \u001b[38;5;66;03m# definition.\u001b[39;00m\n\u001b[1;32m    715\u001b[0m endpoints: Dict[Type[EndpointCallback], Sequence[Tuple[Endpoint, EndpointCallback]]] \u001b[38;5;241m=\u001b[39m \\\n\u001b[0;32m--> 716\u001b[0m     get_first_local_in_call_stack(\n\u001b[1;32m    717\u001b[0m         key\u001b[38;5;241m=\u001b[39m\u001b[38;5;124m\"\u001b[39m\u001b[38;5;124mendpoints\u001b[39m\u001b[38;5;124m\"\u001b[39m,\n\u001b[1;32m    718\u001b[0m         func\u001b[38;5;241m=\u001b[39m\u001b[38;5;28mself\u001b[39m\u001b[38;5;241m.\u001b[39m__find_tracker,\n\u001b[1;32m    719\u001b[0m         offset\u001b[38;5;241m=\u001b[39m\u001b[38;5;241m0\u001b[39m\n\u001b[1;32m    720\u001b[0m     )\n\u001b[1;32m    722\u001b[0m \u001b[38;5;66;03m# If wrapped method was not called from within _track_costs, we will\u001b[39;00m\n\u001b[1;32m    723\u001b[0m \u001b[38;5;66;03m# get None here and do nothing but return wrapped function's\u001b[39;00m\n\u001b[1;32m    724\u001b[0m \u001b[38;5;66;03m# response.\u001b[39;00m\n\u001b[1;32m    725\u001b[0m \u001b[38;5;28;01mif\u001b[39;00m endpoints \u001b[38;5;129;01mis\u001b[39;00m \u001b[38;5;28;01mNone\u001b[39;00m:\n",
      "File \u001b[0;32m/usr/local/anaconda3/lib/python3.11/site-packages/trulens_eval/utils/python.py:204\u001b[0m, in \u001b[0;36mget_first_local_in_call_stack\u001b[0;34m(key, func, offset)\u001b[0m\n\u001b[1;32m    192\u001b[0m \u001b[38;5;250m\u001b[39m\u001b[38;5;124;03m\"\"\"\u001b[39;00m\n\u001b[1;32m    193\u001b[0m \u001b[38;5;124;03mGet the value of the local variable named `key` in the stack at the nearest\u001b[39;00m\n\u001b[1;32m    194\u001b[0m \u001b[38;5;124;03mframe executing a function which `func` recognizes (returns True on).\u001b[39;00m\n\u001b[0;32m   (...)\u001b[0m\n\u001b[1;32m    200\u001b[0m \u001b[38;5;124;03mclass above.\u001b[39;00m\n\u001b[1;32m    201\u001b[0m \u001b[38;5;124;03m\"\"\"\u001b[39;00m\n\u001b[1;32m    203\u001b[0m \u001b[38;5;28;01mtry\u001b[39;00m:\n\u001b[0;32m--> 204\u001b[0m     \u001b[38;5;28;01mreturn\u001b[39;00m \u001b[38;5;28mnext\u001b[39m(\u001b[38;5;28miter\u001b[39m(get_all_local_in_call_stack(key, func, offset \u001b[38;5;241m+\u001b[39m \u001b[38;5;241m1\u001b[39m)))\n\u001b[1;32m    205\u001b[0m \u001b[38;5;28;01mexcept\u001b[39;00m \u001b[38;5;167;01mStopIteration\u001b[39;00m:\n\u001b[1;32m    206\u001b[0m     \u001b[38;5;28;01mreturn\u001b[39;00m \u001b[38;5;28;01mNone\u001b[39;00m\n",
      "File \u001b[0;32m/usr/local/anaconda3/lib/python3.11/site-packages/trulens_eval/utils/python.py:153\u001b[0m, in \u001b[0;36mget_all_local_in_call_stack\u001b[0;34m(key, func, offset)\u001b[0m\n\u001b[1;32m    140\u001b[0m \u001b[38;5;250m\u001b[39m\u001b[38;5;124;03m\"\"\"\u001b[39;00m\n\u001b[1;32m    141\u001b[0m \u001b[38;5;124;03mGet the value of the local variable named `key` in the stack at all of the\u001b[39;00m\n\u001b[1;32m    142\u001b[0m \u001b[38;5;124;03mframes executing a function which `func` recognizes (returns True on)\u001b[39;00m\n\u001b[0;32m   (...)\u001b[0m\n\u001b[1;32m    148\u001b[0m \u001b[38;5;124;03mclass above.\u001b[39;00m\n\u001b[1;32m    149\u001b[0m \u001b[38;5;124;03m\"\"\"\u001b[39;00m\n\u001b[1;32m    151\u001b[0m logger\u001b[38;5;241m.\u001b[39mdebug(\u001b[38;5;124mf\u001b[39m\u001b[38;5;124m\"\u001b[39m\u001b[38;5;124mLooking for local \u001b[39m\u001b[38;5;124m'\u001b[39m\u001b[38;5;132;01m{\u001b[39;00mkey\u001b[38;5;132;01m}\u001b[39;00m\u001b[38;5;124m'\u001b[39m\u001b[38;5;124m in the stack.\u001b[39m\u001b[38;5;124m\"\u001b[39m)\n\u001b[0;32m--> 153\u001b[0m frames \u001b[38;5;241m=\u001b[39m stack_with_tasks()[offset \u001b[38;5;241m+\u001b[39m \u001b[38;5;241m1\u001b[39m:]  \u001b[38;5;66;03m# + 1 to skip this method itself\u001b[39;00m\n\u001b[1;32m    155\u001b[0m \u001b[38;5;66;03m# Using queue for frames as additional frames may be added due to handling threads.\u001b[39;00m\n\u001b[1;32m    156\u001b[0m q \u001b[38;5;241m=\u001b[39m Queue()\n",
      "File \u001b[0;32m/usr/local/anaconda3/lib/python3.11/site-packages/trulens_eval/utils/python.py:110\u001b[0m, in \u001b[0;36mstack_with_tasks\u001b[0;34m()\u001b[0m\n\u001b[1;32m    104\u001b[0m \u001b[38;5;28;01mdef\u001b[39;00m \u001b[38;5;21mstack_with_tasks\u001b[39m() \u001b[38;5;241m-\u001b[39m\u001b[38;5;241m>\u001b[39m Sequence[\u001b[38;5;124m'\u001b[39m\u001b[38;5;124mframe\u001b[39m\u001b[38;5;124m'\u001b[39m]:\n\u001b[1;32m    105\u001b[0m \u001b[38;5;250m    \u001b[39m\u001b[38;5;124;03m\"\"\"\u001b[39;00m\n\u001b[1;32m    106\u001b[0m \u001b[38;5;124;03m    Get the current stack (not including this function) with frames reaching\u001b[39;00m\n\u001b[1;32m    107\u001b[0m \u001b[38;5;124;03m    across Tasks.\u001b[39;00m\n\u001b[1;32m    108\u001b[0m \u001b[38;5;124;03m    \"\"\"\u001b[39;00m\n\u001b[0;32m--> 110\u001b[0m     ret \u001b[38;5;241m=\u001b[39m [fi\u001b[38;5;241m.\u001b[39mframe \u001b[38;5;28;01mfor\u001b[39;00m fi \u001b[38;5;129;01min\u001b[39;00m inspect\u001b[38;5;241m.\u001b[39mstack()[\u001b[38;5;241m1\u001b[39m:]]  \u001b[38;5;66;03m# skip stack_with_task_stack\u001b[39;00m\n\u001b[1;32m    112\u001b[0m     \u001b[38;5;28;01mtry\u001b[39;00m:\n\u001b[1;32m    113\u001b[0m         task_stack \u001b[38;5;241m=\u001b[39m get_task_stack(asyncio\u001b[38;5;241m.\u001b[39mcurrent_task())\n",
      "File \u001b[0;32m/usr/local/anaconda3/lib/python3.11/inspect.py:1755\u001b[0m, in \u001b[0;36mstack\u001b[0;34m(context)\u001b[0m\n\u001b[1;32m   1753\u001b[0m \u001b[38;5;28;01mdef\u001b[39;00m \u001b[38;5;21mstack\u001b[39m(context\u001b[38;5;241m=\u001b[39m\u001b[38;5;241m1\u001b[39m):\n\u001b[1;32m   1754\u001b[0m \u001b[38;5;250m    \u001b[39m\u001b[38;5;124;03m\"\"\"Return a list of records for the stack above the caller's frame.\"\"\"\u001b[39;00m\n\u001b[0;32m-> 1755\u001b[0m     \u001b[38;5;28;01mreturn\u001b[39;00m getouterframes(sys\u001b[38;5;241m.\u001b[39m_getframe(\u001b[38;5;241m1\u001b[39m), context)\n",
      "File \u001b[0;32m/usr/local/anaconda3/lib/python3.11/inspect.py:1730\u001b[0m, in \u001b[0;36mgetouterframes\u001b[0;34m(frame, context)\u001b[0m\n\u001b[1;32m   1728\u001b[0m framelist \u001b[38;5;241m=\u001b[39m []\n\u001b[1;32m   1729\u001b[0m \u001b[38;5;28;01mwhile\u001b[39;00m frame:\n\u001b[0;32m-> 1730\u001b[0m     traceback_info \u001b[38;5;241m=\u001b[39m getframeinfo(frame, context)\n\u001b[1;32m   1731\u001b[0m     frameinfo \u001b[38;5;241m=\u001b[39m (frame,) \u001b[38;5;241m+\u001b[39m traceback_info\n\u001b[1;32m   1732\u001b[0m     framelist\u001b[38;5;241m.\u001b[39mappend(FrameInfo(\u001b[38;5;241m*\u001b[39mframeinfo, positions\u001b[38;5;241m=\u001b[39mtraceback_info\u001b[38;5;241m.\u001b[39mpositions))\n",
      "File \u001b[0;32m/usr/local/anaconda3/lib/python3.11/inspect.py:1688\u001b[0m, in \u001b[0;36mgetframeinfo\u001b[0;34m(frame, context)\u001b[0m\n\u001b[1;32m   1685\u001b[0m \u001b[38;5;28;01mif\u001b[39;00m \u001b[38;5;129;01mnot\u001b[39;00m isframe(frame):\n\u001b[1;32m   1686\u001b[0m     \u001b[38;5;28;01mraise\u001b[39;00m \u001b[38;5;167;01mTypeError\u001b[39;00m(\u001b[38;5;124m'\u001b[39m\u001b[38;5;132;01m{!r}\u001b[39;00m\u001b[38;5;124m is not a frame or traceback object\u001b[39m\u001b[38;5;124m'\u001b[39m\u001b[38;5;241m.\u001b[39mformat(frame))\n\u001b[0;32m-> 1688\u001b[0m filename \u001b[38;5;241m=\u001b[39m getsourcefile(frame) \u001b[38;5;129;01mor\u001b[39;00m getfile(frame)\n\u001b[1;32m   1689\u001b[0m \u001b[38;5;28;01mif\u001b[39;00m context \u001b[38;5;241m>\u001b[39m \u001b[38;5;241m0\u001b[39m:\n\u001b[1;32m   1690\u001b[0m     start \u001b[38;5;241m=\u001b[39m lineno \u001b[38;5;241m-\u001b[39m \u001b[38;5;241m1\u001b[39m \u001b[38;5;241m-\u001b[39m context\u001b[38;5;241m/\u001b[39m\u001b[38;5;241m/\u001b[39m\u001b[38;5;241m2\u001b[39m\n",
      "File \u001b[0;32m/usr/local/anaconda3/lib/python3.11/inspect.py:952\u001b[0m, in \u001b[0;36mgetsourcefile\u001b[0;34m(object)\u001b[0m\n\u001b[1;32m    950\u001b[0m     \u001b[38;5;28;01mreturn\u001b[39;00m filename\n\u001b[1;32m    951\u001b[0m \u001b[38;5;66;03m# only return a non-existent filename if the module has a PEP 302 loader\u001b[39;00m\n\u001b[0;32m--> 952\u001b[0m module \u001b[38;5;241m=\u001b[39m getmodule(\u001b[38;5;28mobject\u001b[39m, filename)\n\u001b[1;32m    953\u001b[0m \u001b[38;5;28;01mif\u001b[39;00m \u001b[38;5;28mgetattr\u001b[39m(module, \u001b[38;5;124m'\u001b[39m\u001b[38;5;124m__loader__\u001b[39m\u001b[38;5;124m'\u001b[39m, \u001b[38;5;28;01mNone\u001b[39;00m) \u001b[38;5;129;01mis\u001b[39;00m \u001b[38;5;129;01mnot\u001b[39;00m \u001b[38;5;28;01mNone\u001b[39;00m:\n\u001b[1;32m    954\u001b[0m     \u001b[38;5;28;01mreturn\u001b[39;00m filename\n",
      "File \u001b[0;32m/usr/local/anaconda3/lib/python3.11/inspect.py:1006\u001b[0m, in \u001b[0;36mgetmodule\u001b[0;34m(object, _filename)\u001b[0m\n\u001b[1;32m   1004\u001b[0m \u001b[38;5;66;03m# Check the main module\u001b[39;00m\n\u001b[1;32m   1005\u001b[0m main \u001b[38;5;241m=\u001b[39m sys\u001b[38;5;241m.\u001b[39mmodules[\u001b[38;5;124m'\u001b[39m\u001b[38;5;124m__main__\u001b[39m\u001b[38;5;124m'\u001b[39m]\n\u001b[0;32m-> 1006\u001b[0m \u001b[38;5;28;01mif\u001b[39;00m \u001b[38;5;129;01mnot\u001b[39;00m \u001b[38;5;28mhasattr\u001b[39m(\u001b[38;5;28mobject\u001b[39m, \u001b[38;5;124m'\u001b[39m\u001b[38;5;124m__name__\u001b[39m\u001b[38;5;124m'\u001b[39m):\n\u001b[1;32m   1007\u001b[0m     \u001b[38;5;28;01mreturn\u001b[39;00m \u001b[38;5;28;01mNone\u001b[39;00m\n\u001b[1;32m   1008\u001b[0m \u001b[38;5;28;01mif\u001b[39;00m \u001b[38;5;28mhasattr\u001b[39m(main, \u001b[38;5;28mobject\u001b[39m\u001b[38;5;241m.\u001b[39m\u001b[38;5;18m__name__\u001b[39m):\n",
      "\u001b[0;31mKeyboardInterrupt\u001b[0m: "
     ]
    }
   ],
   "source": [
    "import itertools\n",
    "for index_param, embed_model, top_k, chunk_size in itertools.product(\n",
    "    index_params, embed_models, top_ks, chunk_sizes\n",
    "    ):\n",
    "    if embed_model == embed_v12:\n",
    "        embed_model_name = \"v12\"\n",
    "    elif embed_model == embed_ft3_v12:\n",
    "        embed_model_name = \"ft3_v12\"\n",
    "    elif embed_model == embed_ada:\n",
    "        embed_model_name = \"ada\"\n",
    "    vector_store = MilvusVectorStore(index_params={\n",
    "        \"index_type\": index_param,\n",
    "        \"metric_type\": \"L2\",\n",
    "        \"params\":{\"nlist\":4096}\n",
    "        },\n",
    "        host=\"100.26.179.161\",\n",
    "        port=\"19530\",\n",
    "        search_params={\"nprobe\": 20},\n",
    "        overwrite=True)\n",
    "    llm = OpenAI(model=\"gpt-4\")\n",
    "    storage_context = StorageContext.from_defaults(vector_store = vector_store)\n",
    "    service_context = ServiceContext.from_defaults(embed_model = embed_model, llm = llm, chunk_size=chunk_size)\n",
    "    index = VectorStoreIndex.from_documents(wiki_docs,\n",
    "            service_context=service_context,\n",
    "            storage_context=storage_context)\n",
    "    query_engine = index.as_query_engine(similarity_top_k = top_k)\n",
    "    tru_query_engine = TruLlama(query_engine,\n",
    "                    feedbacks=[f_groundedness, f_qa_relevance, f_qs_relevance],\n",
    "                    metadata={\n",
    "                        'index_param':index_param,\n",
    "                        'embed_model':embed_model_name,\n",
    "                        'top_k':top_k,\n",
    "                        'chunk_size':chunk_size\n",
    "                        })\n",
    "    @retry(stop=stop_after_attempt(10), wait=wait_exponential(multiplier=1, min=4, max=10))\n",
    "    def call_tru_query_engine(prompt):\n",
    "        return tru_query_engine.query(prompt)\n",
    "    for prompt in test_prompts:\n",
    "        call_tru_query_engine(prompt)"
   ]
  },
  {
   "cell_type": "code",
   "execution_count": null,
   "id": "8550cf2e-d7b5-42c5-af83-ba9f1182d275",
   "metadata": {},
   "outputs": [],
   "source": [
    "tru.run_dashboard() # open a local streamlit app to explore\n",
    "\n",
    "# tru.stop_dashboard() # stop if needed"
   ]
  },
  {
   "cell_type": "code",
   "execution_count": null,
   "id": "7ce1a3a2-e214-4144-a1f7-c5643abb4040",
   "metadata": {},
   "outputs": [],
   "source": [
    "tru.get_records_and_feedback(app_ids=[])[0] # pass an empty list of app_ids to get all"
   ]
  }
 ],
 "metadata": {
  "kernelspec": {
   "display_name": "Python 3 (ipykernel)",
   "language": "python",
   "name": "python3"
  },
  "language_info": {
   "codemirror_mode": {
    "name": "ipython",
    "version": 3
   },
   "file_extension": ".py",
   "mimetype": "text/x-python",
   "name": "python",
   "nbconvert_exporter": "python",
   "pygments_lexer": "ipython3",
   "version": "3.11.3"
  }
 },
 "nbformat": 4,
 "nbformat_minor": 5
}
